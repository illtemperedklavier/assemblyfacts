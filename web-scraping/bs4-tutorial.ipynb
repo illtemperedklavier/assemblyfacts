{
 "cells": [
  {
   "cell_type": "markdown",
   "metadata": {},
   "source": [
    "https://www.digitalocean.com/community/tutorials/how-to-scrape-web-pages-with-beautiful-soup-and-python-3"
   ]
  },
  {
   "cell_type": "code",
   "execution_count": 2,
   "metadata": {},
   "outputs": [],
   "source": [
    "# Import libraries\n",
    "import requests\n",
    "from bs4 import BeautifulSoup"
   ]
  },
  {
   "cell_type": "code",
   "execution_count": 3,
   "metadata": {},
   "outputs": [],
   "source": [
    "page = requests.get('https://web.archive.org/web/20121007172955/https://www.nga.gov/collection/anZ1.htm')"
   ]
  },
  {
   "cell_type": "code",
   "execution_count": 4,
   "metadata": {},
   "outputs": [],
   "source": [
    "soup = BeautifulSoup(page.text, 'html.parser')"
   ]
  },
  {
   "cell_type": "code",
   "execution_count": 5,
   "metadata": {},
   "outputs": [],
   "source": [
    "artist_name_list = soup.find(class_='BodyText')"
   ]
  },
  {
   "cell_type": "code",
   "execution_count": 6,
   "metadata": {},
   "outputs": [
    {
     "data": {
      "text/plain": [
       "'\\n\\nArtist names beginning with Z\\nZabaglia, NiccolaItalian, 1664 - 1750\\nZaccone, FabianAmerican, 1910 - 1992\\nZadkine, OssipFrench, 1890 - 1967\\nZaech, BernhardGerman, active c. 1650\\nZagar, JacobFlemish, c. 1530 - after 1580\\nZagroba, IdaliaPolish, born 1967\\nZaidenberg, A.American, active c. 1935\\nZaidenberg, ArthurAmerican, 1903 - 1990\\nZaisinger, MatthäusGerman, active c. 1500\\nZajac, JackAmerican, born 1929\\nZak, EugènePolish, 1884 - 1926\\nZakharov, Gurii FillipovichRussian, born 1926\\nZakowortny, Igor\\nZalce, AlfredoMexican, born 1908\\nZalopany, MicheleAmerican, born 1955\\nZammiello, Craig\\nZammitt, NormanAmerican, born 1931\\nZampieri, DomenicoItalian, 1581 - 1641\\nZampieri, called Domenichino, DomenicoItalian, 1581 - 1641\\nZanartú, Enrique AntunezChilean, born 1921\\nZanchi, AntonioItalian, 1631 - 1722\\nZanetti, Anton MariaItalian, 1679/1680 - 1767\\nZanetti Borzino, LeopoldinaItalian, 1826 - 1902\\nZanetti I, Antonio Maria, conteItalian, 1680 - 1757\\nZanguidi, JacopoItalian, 1544 - 1573/1574\\nZanini, GiuseppeItalian, c. 1599 - 1631\\nZanini-Viola, GiuseppeItalian, c. 1599 - 1631\\nZanotti, GiampietroItalian, 1674 - 1765\\nZao Wou-KiFrench, born 1921\\n\\n\\nPage 1 - Artists 1 thru 29 of 115\\n\\n\\n\\n· Zab-Zao ·Zas-Zie Zie-Zor \\n» nextpage\\n\\n\\n\\n'"
      ]
     },
     "execution_count": 6,
     "metadata": {},
     "output_type": "execute_result"
    }
   ],
   "source": [
    "artist_name_list.text"
   ]
  },
  {
   "cell_type": "code",
   "execution_count": 11,
   "metadata": {},
   "outputs": [],
   "source": [
    "content_list = soup.find(class_='content')"
   ]
  },
  {
   "cell_type": "code",
   "execution_count": 8,
   "metadata": {},
   "outputs": [
    {
     "data": {
      "text/plain": [
       "bs4.element.Tag"
      ]
     },
     "execution_count": 8,
     "metadata": {},
     "output_type": "execute_result"
    }
   ],
   "source": [
    "type(content_list)"
   ]
  },
  {
   "cell_type": "code",
   "execution_count": 9,
   "metadata": {},
   "outputs": [
    {
     "data": {
      "text/plain": [
       "bs4.element.Tag"
      ]
     },
     "execution_count": 9,
     "metadata": {},
     "output_type": "execute_result"
    }
   ],
   "source": [
    "type(artist_name_list)"
   ]
  },
  {
   "cell_type": "code",
   "execution_count": null,
   "metadata": {},
   "outputs": [],
   "source": []
  }
 ],
 "metadata": {
  "kernelspec": {
   "display_name": "Python 3",
   "language": "python",
   "name": "python3"
  },
  "language_info": {
   "codemirror_mode": {
    "name": "ipython",
    "version": 3
   },
   "file_extension": ".py",
   "mimetype": "text/x-python",
   "name": "python",
   "nbconvert_exporter": "python",
   "pygments_lexer": "ipython3",
   "version": "3.8.5"
  }
 },
 "nbformat": 4,
 "nbformat_minor": 4
}
