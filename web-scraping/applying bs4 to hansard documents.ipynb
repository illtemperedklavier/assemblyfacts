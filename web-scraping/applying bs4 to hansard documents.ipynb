{
 "cells": [
  {
   "cell_type": "raw",
   "metadata": {},
   "source": [
    "url = 'https://www.ola.org/en/legislative-business/house-documents/parliament-42/session-1/2020-05-27/hansard'"
   ]
  },
  {
   "cell_type": "code",
   "execution_count": 1,
   "metadata": {},
   "outputs": [],
   "source": [
    "import requests\n",
    "from bs4 import BeautifulSoup"
   ]
  },
  {
   "cell_type": "raw",
   "metadata": {},
   "source": [
    "page = requests.get(url)"
   ]
  },
  {
   "cell_type": "code",
   "execution_count": 2,
   "metadata": {},
   "outputs": [],
   "source": [
    "#soup = BeautifulSoup(page.text, 'html.parser')"
   ]
  },
  {
   "cell_type": "code",
   "execution_count": 3,
   "metadata": {},
   "outputs": [],
   "source": [
    "file_location = r\"C:\\Users\\alecr\\Projects\\assemblyfacts\\saved webpages\\Hansard Transcript 2020-May-27 Legislative Assembly of Ontario.html\"\n",
    "soup = BeautifulSoup(open(file_location, encoding=\"utf8\"),'html.parser' )"
   ]
  },
  {
   "cell_type": "markdown",
   "metadata": {},
   "source": [
    "note: encoding=\"utf8\""
   ]
  },
  {
   "cell_type": "code",
   "execution_count": 4,
   "metadata": {},
   "outputs": [
    {
     "data": {
      "text/plain": [
       "bs4.BeautifulSoup"
      ]
     },
     "execution_count": 4,
     "metadata": {},
     "output_type": "execute_result"
    }
   ],
   "source": [
    "type(soup)"
   ]
  },
  {
   "cell_type": "code",
   "execution_count": 5,
   "metadata": {},
   "outputs": [
    {
     "name": "stdout",
     "output_type": "stream",
     "text": [
      "<h1>Legislative Assembly of Ontario</h1>\n"
     ]
    }
   ],
   "source": [
    "print(soup.h1)"
   ]
  },
  {
   "cell_type": "code",
   "execution_count": 27,
   "metadata": {},
   "outputs": [],
   "source": [
    "transcript = soup.find(\"div\", { \"id\" : \"transcript\" })"
   ]
  },
  {
   "cell_type": "code",
   "execution_count": 28,
   "metadata": {},
   "outputs": [],
   "source": [
    "t = transcript.findNext()"
   ]
  },
  {
   "cell_type": "code",
   "execution_count": 31,
   "metadata": {},
   "outputs": [
    {
     "data": {
      "text/plain": [
       "'\\nLEGISLATIVE ASSEMBLY OF ONTARIO\\nASSEMBLÉE LÉGISLATIVE DE L’ONTARIO\\nWednesday 27 May 2020 Mercredi 27 mai 2020\\nOrders of the Day\\nOrder of business\\nMembers’ Statements\\nHomelessness\\nCOVID-19 response\\nLong-term care\\nCOVID-19 response\\nNorthern municipalities\\nFamily caregivers\\nCOVID-19 response\\nChurch-Wellesley Village\\nCOVID-19 response\\nCOVID-19 response\\nQuestion Period\\nLong-term care\\nLong-term care\\nLong-term care\\nStudents\\nLong-term care\\nLong-term care\\nLong-term care\\nLong-term care\\nBroadband infrastructure\\nLong-term care\\nLong-term care\\nLong-term care\\nLong-term care\\nDeferred Votes\\nRebuilding Consumer Confidence Act, 2020 / Loi de 2020 visant à rétablir la confiance chez les consommateurs\\nProtecting\\n Tenants and Strengthening Community Housing Act, 2020 / Loi de 2020 \\nvisant la protection des locataires et le renforcement du logement \\ncommunautaire\\nPetitions\\nPublic sector compensation\\nOrders of the Day\\nOrder of business\\n'"
      ]
     },
     "execution_count": 31,
     "metadata": {},
     "output_type": "execute_result"
    }
   ],
   "source": [
    "t.get_text()"
   ]
  },
  {
   "cell_type": "raw",
   "metadata": {},
   "source": [
    "for t in transcript:\n",
    "    try:\n",
    "        print (t.title())\n",
    "    except TypeError:\n",
    "        pass"
   ]
  },
  {
   "cell_type": "code",
   "execution_count": 9,
   "metadata": {},
   "outputs": [
    {
     "data": {
      "text/plain": [
       "bs4.element.Tag"
      ]
     },
     "execution_count": 9,
     "metadata": {},
     "output_type": "execute_result"
    }
   ],
   "source": [
    "type(transcript)"
   ]
  },
  {
   "cell_type": "code",
   "execution_count": 60,
   "metadata": {},
   "outputs": [
    {
     "data": {
      "text/plain": [
       "{'id': 'transcript'}"
      ]
     },
     "execution_count": 60,
     "metadata": {},
     "output_type": "execute_result"
    }
   ],
   "source": [
    "transcript.attrs"
   ]
  },
  {
   "cell_type": "code",
   "execution_count": 20,
   "metadata": {},
   "outputs": [],
   "source": [
    "speaker_starts = soup.find_all(class_ = 'speakerStart')"
   ]
  },
  {
   "cell_type": "code",
   "execution_count": 13,
   "metadata": {},
   "outputs": [],
   "source": [
    "procedures = soup.find_all(class_ = 'procudure')"
   ]
  },
  {
   "cell_type": "code",
   "execution_count": 11,
   "metadata": {},
   "outputs": [
    {
     "data": {
      "text/plain": [
       "bs4.element.ResultSet"
      ]
     },
     "execution_count": 11,
     "metadata": {},
     "output_type": "execute_result"
    }
   ],
   "source": [
    "type(speaker_starts)"
   ]
  },
  {
   "cell_type": "code",
   "execution_count": 63,
   "metadata": {},
   "outputs": [
    {
     "name": "stdout",
     "output_type": "stream",
     "text": [
      "The Speaker (Hon. Ted Arnott): Let us pray.\n",
      "The Speaker (Hon. Ted Arnott): I recognize the member for Barrie–Innisfil.\n",
      "Ms. Andrea Khanjin:\n",
      " I move that, notwithstanding standing order 7(a)(i) or any special \n",
      "order of the House, when the House adjourns on June 3, 2020, it shall \n",
      "stand adjourned until Tuesday, June 16, 2020, and the House shall then \n",
      "continue to meet during an extension of the spring meeting period in \n",
      "accordance with the following schedule:\n",
      "The Speaker (Hon. Ted Arnott):\n",
      " Ms. Khanjin has moved government notice of motion number 77. I’ve been \n",
      "advised that there is a typo in the motion. It should say “Thursday, \n",
      "June 18,” and it says what?\n",
      "The Deputy Clerk (Mr. Trevor Day): “Thursday, June 17.”\n",
      "The Speaker (Hon. Ted Arnott): It says, “Thursday, June 17.” It should actually be the 18th. The Thursday is June 18, not the 17th.\n",
      "Ms. Andrea Khanjin:\n",
      " Thank you, Mr. Speaker. As you see by this motion, when our government \n",
      "got elected, we hit the ground running to accomplish so much for \n",
      "Ontarians. When I was knocking on doors and talking to many of my \n",
      "constituents, they often said, “What does the government really do for \n",
      "us? How can they achieve progress? We see a lot of debate, we see a lot \n",
      "of bickering, and we see a lot of things in the debate. What about grand\n",
      " achievements and really delivering on promises?”\n",
      "The Speaker (Hon. Ted Arnott): The member for Sudbury I think has a point of order.\n",
      "Mr. Jamie West:\n",
      " I appreciate all the comments and the information about what’s \n",
      "happening in the member’s riding. I don’t see how it relates to the \n",
      "motion under debate. It was a last-minute motion that was brought \n",
      "forward. I’m interested in hearing about why it is very important. The \n",
      "other colour commentary is interesting, but I feel like we’ve sort of \n",
      "veered into the weeds, and I was wondering if we could get back on \n",
      "track.\n",
      "The Speaker (Hon. Ted Arnott):\n",
      " The member is quite right: The comments in the debate have to relate to\n",
      " the motion or the bill. But I find that the member for Barrie–Innisfil \n",
      "is speaking to the motion, and would ask her to continue.\n",
      "Ms. Andrea Khanjin:\n",
      " Thank you to the member opposite, but they’re just examples to show you\n",
      " that while people are working and doing all these efforts in all of our\n",
      " communities, we also owe it to them to be here and to be working on \n",
      "those efforts.\n",
      "The Speaker (Hon. Ted Arnott): Further debate?\n",
      "Ms. Peggy Sattler:\n",
      " I rise today to participate, in the debate on this motion that was \n",
      "brought forward by the government, as the acting House leader for the \n",
      "official opposition. I want to say at the outset how striking is the \n",
      "difference in tone in this Legislature yesterday and today when you \n",
      "reflect back on the earlier sessions we have come together for during \n",
      "this state of emergency.\n",
      "The Speaker (Hon. Ted Arnott): I’m going to remind the House that you can’t point out the absence of any member.\n",
      "Ms. Peggy Sattler: Apologies.\n",
      "The Speaker (Hon. Ted Arnott): I again recognize the member for London West.\n",
      "Ms. Peggy Sattler: Okay—\n",
      "The Speaker (Hon. Ted Arnott): I know you didn’t mean it in the—but I think I should point that out.\n",
      "Ms. Peggy Sattler:\n",
      " My friends from the Liberals and the Greens and the independents will \n",
      "know that, during the House leader meetings that we held when we were \n",
      "discussing the sittings of the Legislature and the issues that were \n",
      "going to be dealt with—they will have heard the government House leader \n",
      "say that, given that we have never in this Legislature held virtual \n",
      "committee meetings before, we would do sort of a trial run, that we \n",
      "would bring forward a single, relatively non-contentious bill—for \n",
      "example, a bill like the Legislative Assembly Act, a bill that was dealt\n",
      " with rather quickly in this Legislature because there was widespread \n",
      "agreement that that the measures set out in that bill would improve the \n",
      "functioning of the Legislative Assembly.\n",
      "Ms. Catherine Fife: Who takes away the advocate?\n",
      "Ms. Peggy Sattler: Yes.\n",
      "The Speaker (Hon. Ted Arnott): Timing is everything. Exactly; I agree.\n",
      "Ms. Rima Berns-McGown:\n",
      " Long-term care is not the only humanitarian disaster unfolding in \n",
      "Ontario. Homelessness was in crisis before COVID, and now it is a public\n",
      " health nightmare.\n",
      "Mr. Daryl Kramp:\n",
      " Today I would like to take this opportunity to say how absolutely \n",
      "humbled I am to represent the riding of Hastings–Lennox and Addington. I\n",
      " continue to be inspired by the exceptional kindness of so many \n",
      "individuals in this very challenging time. Like so many across the aisle\n",
      " and here, my heart is broken as I witness the hardships, the pressure \n",
      "this pandemic has caused for so many people and to so many businesses. \n",
      "My team has worked tirelessly to answer questions and provide resources \n",
      "and assistance to families, businesses and individuals in our riding.\n",
      "Ms. Teresa J. Armstrong:\n",
      " Yesterday, the Canadian Armed Forces released a report on the state of \n",
      "the five long-term-care homes that they were deployed to because of the \n",
      "coronavirus. What the Canadian Armed Forces uncovered was unspeakable. I\n",
      " can’t imagine how families and their loved ones in long-term care are \n",
      "feeling, how they are processing this information, and how they must be \n",
      "filled with worry and, quite frankly, disgust.\n",
      "Mr. Logan Kanapathi:\n",
      " Good morning, Mr. Speaker. Throughout these challenging times, we have \n",
      "all witnessed incredible acts of kindness, generosity and compassion in \n",
      "our communities.\n",
      "Mr. Guy Bourgouin:\n",
      " Small municipalities in the north face a devastating fiscal situation. \n",
      "While they all have limited fiscal capacity, small towns must face new \n",
      "COVID expenses and keep up with infrastructure that cannot be shut down.\n",
      " Moosonee, for example, continues to operate the main airport of the \n",
      "James Bay, in spite of having lost most revenues. They must keep the \n",
      "airport alive because they serve medical, flood, forecasting and cargo \n",
      "operations. Also, most northern municipalities have taken relief action.\n",
      " Hearst, for instance, paused a tax increase while facing a revenue loss\n",
      " of a quarter of a million dollars between mid-March and April. Other \n",
      "towns have waived interest and penalties, offered payment deferrals or \n",
      "service rebates to small businesses.\n",
      "Mr. John Fraser:\n",
      " This pandemic has been hard on families across this province, \n",
      "especially families in long-term care, those families who have someone \n",
      "who is sick and being treated in hospital, and someone who is \n",
      "chronically ill. There’s some risk in this pandemic where we may lose \n",
      "something that’s really important, lose our humanity. One of the things \n",
      "we are at risk of losing is the role of essential family caregivers and \n",
      "the role that they play to keep their loved ones well: sometimes feed \n",
      "them, sometimes bathe them, sometimes avoid medical accidents, to ensure\n",
      " that they get the care that they need. Essential family caregivers are \n",
      "just that: They’re essential. They are not visitors.\n",
      "Mr. Amarjot Sandhu:\n",
      " From the onset of the outbreak of COVID-19, the government of Ontario \n",
      "has taken significant steps to curb the spread of this virus and to \n",
      "reduce its impacts on the health of Ontarians and our economy. During \n",
      "this time of crisis, volunteers and organizations from Brampton West and\n",
      " Brampton have rallied to provide support for vulnerable people in \n",
      "society. Organizations like Knights Table Brampton, Khalsa Aid, \n",
      "Regeneration Outreach, United Sikhs, Canada India Foundation, Ahmadiyya \n",
      "Muslim Jama’at, My Indians in Canada Association, care4cause, Punjabi \n",
      "Food Seva Mississauga and Brampton, Thapliyal Foundation and other \n",
      "similar organizations, and their volunteers are working very hard to \n",
      "keep people and families safe, fed and socially supported during the \n",
      "COVID-19 pandemic. Such organizations and their volunteers are stepping \n",
      "up to ensure food can reach Bramptonians who need it the most.\n",
      "Ms. Suze Morrison:\n",
      " I rise today to share my concern with this House and directly with the \n",
      "Premier about the future of the Church-Wellesley Village.\n",
      "The Speaker (Hon. Ted Arnott): Members’ statements? The member for Scarborough Southwest.\n",
      "Mr. Vijay Thanigasalam:\n",
      " In the fight against COVID-19, the residents of Scarborough–Rouge Park \n",
      "have been more resilient than ever. I want to recognize the incredible \n",
      "work by our neighbourhood groups and organizations, such as the \n",
      "Centennial Community and Recreation Association, the West Rouge \n",
      "Community Association, the Highland Creek Community Association, Muslim \n",
      "Welfare Canada, the Inforce Foundation, Feed Our Community: Scarborough \n",
      "and the National Council of Canadian Tamils.\n",
      "The Speaker (Hon. Ted Arnott): I thank the member for Scarborough–Rouge Park and apologize for getting his riding name wrong.\n",
      "Ms. Effie J. Triantafilopoulos:\n",
      " Since the beginning of the pandemic, people in my community of Oakville\n",
      " North–Burlington have stood firmly behind our front-line health care \n",
      "workers and other essential workers. They are keeping us safe and \n",
      "keeping us healthy.\n",
      "The Speaker (Hon. Ted Arnott): That concludes our members’ statements for this morning.\n",
      "Ms. Peggy Sattler:\n",
      " Thank you, Speaker. I rise on a point of order. Our lead questions are \n",
      "to the Premier, and the government has not confirmed whether the Premier\n",
      " will be attending today or not. I would ask if the government can let \n",
      "us know if he will be late, and if he will be, we would like a UC to \n",
      "stand down the lead—\n",
      "The Speaker (Hon. Ted Arnott):\n",
      " That’s not a point of order. Again, I would remind the members that \n",
      "it’s a long-standing tradition of the House not to point out the absence\n",
      " of any member. I would suggest, especially at this time, we—but you \n",
      "were asking—\n",
      "Ms. Peggy Sattler: I seek a UC to stand down our lead until the Premier arrives.\n",
      "The Speaker (Hon. Ted Arnott):\n",
      " The member for London West is seeking unanimous content of the House to\n",
      " stand down the lead questions for the official opposition until the \n",
      "Premier arrives. Agreed? I heard some noes.\n",
      "Hon. Paul Calandra: I’m seeking unanimous consent to put forward a motion without notice respecting the voting procedure today.\n",
      "The Speaker (Hon. Ted Arnott):\n",
      " The government House leader is seeking unanimous consent to move a \n",
      "motion without notice respecting the voting procedure today. Agreed? I \n",
      "heard a no.\n",
      "Ms. Andrea Horwath:\n",
      " My first question is to the Premier, whom people deserve to have \n",
      "sitting in his place answering questions today. Yesterday, the Canadian \n",
      "Armed Forces—\n",
      "The Speaker (Hon. Ted Arnott):\n",
      " I’m going to interrupt the leader and remind all members of the House \n",
      "that it’s not appropriate to point out the absence of any member. Again,\n",
      " there’s a reason for it. It’s a long-standing tradition. From time to \n",
      "time, any of us might be away from the House, so it’s a courtesy to all \n",
      "members.\n",
      "Ms. Andrea Horwath:\n",
      " Thank you, Speaker. In these horrifying times, my first question this \n",
      "morning comes to the Premier. Yesterday, the Canadian Armed Forces \n",
      "presented a devastating report into the neglect and abuse of seniors in \n",
      "Ontario’s long-term-care homes. The report is heartbreaking and \n",
      "horrifying, especially for families and seniors in these homes. I spoke \n",
      "with some family members from Orchard Villa this morning, and they are \n",
      "devastated, not because they’re surprised but because it confirms the \n",
      "warnings that they had been screaming at this government for weeks.\n",
      "The Speaker (Hon. Ted Arnott):\n",
      " Once again—and maybe this is the last time, I hope—I’m going to ask the\n",
      " members not to make reference to the absence of any other member.\n",
      "Hon. Merrilee Fullerton:\n",
      " Thank you, Speaker, and thank you for the important question. Our \n",
      "government is absolutely committed to transforming long-term care and \n",
      "health care. That is why, all this time, we’ve been transforming to \n",
      "Ontario health teams and to Ontario Health. We’ve taken the \n",
      "long-term-care sector very seriously, understanding the need for \n",
      "transformation. I spent almost 30 years as a family doctor, caring for \n",
      "people—our most vulnerable people—and understanding their needs. That’s \n",
      "what I came here to do.\n",
      "The Speaker (Hon. Ted Arnott): The supplementary question?\n",
      "Ms. Andrea Horwath:\n",
      " Families who read devastating reports yesterday of ongoing abuse and \n",
      "institutional neglect deserve so much more from their government. \n",
      "Instead of acknowledging the role that the cuts and neglect played in \n",
      "creating this crisis, the Premier and his minister offered excuses. \n",
      "Instead of accountability, the Premier blocked plans for an inquiry and \n",
      "defended his team.\n",
      "Hon. Merrilee Fullerton:\n",
      " Thank you again to the opposition for that question. When you look at \n",
      "long-term care, as I have for decades, you understand that our most \n",
      "vulnerable people are in long-term care. The report was appalling; there\n",
      " is no question. How we respond to that now with an independent \n",
      "commission that allows the public to be heard, that allows for public \n",
      "hearings, that allows for a public report, is absolutely critical. Those\n",
      " voices need to be heard.\n",
      "The Speaker (Hon. Ted Arnott): The final supplementary.\n",
      "Ms. Andrea Horwath:\n",
      " Speaker, a commission is not good enough. That was something that the \n",
      "women from the home that I spoke to this morning actually agreed with. \n",
      "They think a commission is the wrong way to go, and so do we.\n",
      "Hon. Merrilee Fullerton:\n",
      " Thank you again for the question. Long-term care was in crisis before \n",
      "COVID hit. Our government was committed, is committed and will be \n",
      "committed to the care of and compassion for our most vulnerable \n",
      "citizens. I rose in the chamber on March 12 to talk about how this is a \n",
      "time for caring and compassion; it is not a time for vitriol. I will say\n",
      " today that it is a time for finding solutions.\n",
      "Ms. Andrea Horwath:\n",
      " My next question is also to the Premier. Look, if this was their number\n",
      " one commitment, they have failed miserably. They have failed miserably,\n",
      " and everybody knows it now. We all knew it before. We did here in this \n",
      "chamber, here on the opposition bench, because the previous government \n",
      "failed as well. But now everybody knows the failure in long-term care.\n",
      "The Speaker (Hon. Ted Arnott): The Minister of Long-Term Care to reply.\n",
      "Hon. Merrilee Fullerton:\n",
      " Thank you again for the important question. I have said many times that\n",
      " long-term-care homes were on the front lines of this battle with COVID.\n",
      " When you consider the report, it’s very clear that there was a war \n",
      "going on in our homes against COVID—and the fact that the military had \n",
      "to be called in to support these homes, and the staffing shortages that \n",
      "suddenly became magnified many times more when COVID came into the \n",
      "homes. It would spiral into an abyss very quickly, and that’s why the \n",
      "military was called in.\n",
      "The Speaker (Hon. Ted Arnott): The supplementary question.\n",
      "Ms. Andrea Horwath:\n",
      " Speaker, the minister stood in this House and assured Ontarians back at\n",
      " the end of February that everything had been done, that they had a \n",
      "plan, that long-term care was going to be fine. And then the Premier \n",
      "talked about “the iron ring” around long-term care. They said they were \n",
      "going to spare no expense on long-term care—all of these empty words \n",
      "over and over and over again, for weeks and weeks and weeks, while \n",
      "family members and residents became more and more desperate.\n",
      "Hon. Merrilee Fullerton:\n",
      " Thank you once again for the question. Our government has been \n",
      "committed, and you can see that from the very beginning of our \n",
      "government’s commitments. We look at the 15,000 beds that were to be \n",
      "developed and redeveloped. What we’re finding is the ward rooms, the \n",
      "lack of redevelopment, the lack of new space. Our hospitals were also at\n",
      " capacity with hallway health care. This was an entire system \n",
      "reorganization: Ontario Health, Ontario health teams, integrating \n",
      "long-term care into that process so that they could be more integrated \n",
      "with expertise involving infection control and also the expertise for \n",
      "our long-term-care homes so badly needed. Our personal support workers \n",
      "were short in supply. We asked the government to help us streamline that\n",
      " process to make that easier. The staffing crises, the capacity in our \n",
      "hospitals—it all needed addressing, and our government was working on \n",
      "that from the beginning.\n",
      "The Speaker (Hon. Ted Arnott): Thank you. The final supplementary.\n",
      "Ms. Andrea Horwath:\n",
      " In February 2019, the Ministry of Health conducted a resident quality \n",
      "inspection at the Altamont Care Community facility. They found that the \n",
      "facility failed to keep the home furnishings and equipment clean and \n",
      "sanitary, walls were covered in food stains, and residents with bedsores\n",
      " were not being properly treated. This resident quality inspection was \n",
      "one of only nine conducted in over 626 homes in Ontario. It was one of \n",
      "only nine inspected. The Premier scaled those inspections back \n",
      "dramatically after private long-term-care operators described those \n",
      "inspections as “red tape.”\n",
      "Hon. Merrilee Fullerton: Thank you again. These homes were in crisis, and that’s why the military was called in.\n",
      "Ms. Andrea Horwath:\n",
      " Speaker, my next question is also to the Premier—the same Premier who \n",
      "cut funding to long-term care and virtually eliminated long-term-care \n",
      "inspections, who has no right at all at this point in time to be shocked\n",
      " by the state of long-term care, and no credibility whatsoever when he \n",
      "says he will investigate.\n",
      "The Speaker (Hon. Ted Arnott): The Minister of Long-Term Care to reply.\n",
      "Hon. Merrilee Fullerton:\n",
      " Thanks for the question. I have to push back. I have to clarify. I have\n",
      " to tell the truth. And the truth absolutely is that the inspections \n",
      "were never stopped. We have done more inspections than ever before.\n",
      "Ms. Andrea Horwath: There’s something called facts.\n",
      "The Speaker (Hon. Ted Arnott): Order.\n",
      "Hon. Merrilee Fullerton: —and I think it’s very important that we clarify, because reality matters. The truth matters.\n",
      "The Speaker (Hon. Ted Arnott): Thank you very much. The supplementary question.\n",
      "Ms. Andrea Horwath:\n",
      " Well, I would say to the minister and to the Premier: Resident quality \n",
      "inspections matter. They matter. And to take them down to nine a year \n",
      "when we have 626 long-term care homes in Ontario is negligent. It is \n",
      "them not doing their duty as a government.\n",
      "The Speaker (Hon. Ted Arnott): Members, please take their seats.\n",
      "Hon. Merrilee Fullerton:\n",
      " Thank you for the question. Our government is committed, and that’s why\n",
      " it began with the redevelopment of our long-term-care system. It put \n",
      "almost $2 billion towards building capacity and redevelopment. They’re \n",
      "undergoing a staffing study to inform a comprehensive staffing strategy.\n",
      " We are addressing Justice Gillese’s report and the important work done \n",
      "by the Auditor General as well.\n",
      "Mr. Parm Gill:\n",
      " My question is to the Minister of Education. Parents, teachers and \n",
      "students in my riding of Milton are doing their best in these very \n",
      "difficult circumstances. They’re being flexible, they’re working hard \n",
      "and they’re being creative. I’ve heard from countless parents who find \n",
      "that their kids are best supported when their teachers conduct live \n",
      "classes. This includes Adriana, who says, “As a parent, I would love for\n",
      " my kids to get the live interaction with their classmates and teachers \n",
      "so they can be engaged and actually learning at this time.”\n",
      "Hon. Stephen Lecce:\n",
      " Thank you so the member from Milton for his question and his \n",
      "leadership. I want just to start with a recognition of gratitude to our \n",
      "educators, to our students and parents for rising to the challenge in \n",
      "this truly unprecedented time.\n",
      "The Speaker (Hon. Ted Arnott): The supplementary question.\n",
      "Mr. Parm Gill:\n",
      " Thank you to the minister for the answer. In these difficult times, \n",
      "it’s more important than ever that our education system adapt to the \n",
      "needs of students. This is critical, especially when it comes to mental \n",
      "health. Anxiety, depression and other mental health challenges are on \n",
      "the rise, and tragically, our kids are not excluded from this.\n",
      "Hon. Stephen Lecce:\n",
      " Thank you again to the member for Milton for the question. I know that \n",
      "mental health is a priority for all members of the House, and I actually\n",
      " appreciate my conversations with the critics in all parties and the \n",
      "leader of the Green Party, discussing this very issue. It is why in part\n",
      " the Premier announced some weeks ago an additional $12-million \n",
      "investment to support mental health, to enable our young people to have \n",
      "the strength that they need through this difficulty.\n",
      "Ms. Teresa J. Armstrong:\n",
      " My question is to the Premier. The government spent months saying they \n",
      "were monitoring long-term care closely but yesterday claimed to know \n",
      "nothing of the horrific conditions in our long-term-care homes. The \n",
      "horrifying report from our armed forces comes after the government’s \n",
      "decision to virtually eliminate proactive resident quality inspections \n",
      "in long-term care. The government insisted that this would have no \n",
      "impact on care. In fact, last April, the minister claimed that Ontario \n",
      "has “the most rigorous” inspections “in Canada” and didn’t need resident\n",
      " quality inspections.\n",
      "The Speaker (Hon. Ted Arnott): Minister of Long-Term Care.\n",
      "Hon. Merrilee Fullerton:\n",
      " Thank you for the question from the opposition. Our government is \n",
      "absolutely committed to long-term care and reforming health care. In our\n",
      " long-term-care system, we are monitoring the homes. We are moving in \n",
      "the right direction. Our homes are improving. There are a handful of \n",
      "homes that have been under exceptional stress, largely due to staffing \n",
      "issues. We use certain criteria to identify red homes versus yellow \n",
      "homes versus green homes. We’ve been actively monitoring that all this \n",
      "way.\n",
      "The Speaker (Hon. Ted Arnott): The supplementary question: the member for Brampton Centre.\n",
      "Ms. Sara Singh:\n",
      " Speaker, it’s difficult to believe that this government had absolutely \n",
      "no idea about the crisis in long-term-care homes when conditions like \n",
      "the ones detailed in the Canadian Armed Forces report are happening \n",
      "across this province, including in cities like Brampton. The Premier \n",
      "said himself that he believes that there are also other homes that are \n",
      "impacted.\n",
      "Hon. Merrilee Fullerton:\n",
      " Thank you for the question. In fact, there was a crisis in \n",
      "long-term-care homes. We knew that there was a shortage of personal \n",
      "support workers. That contributes greatly in a time of absolute crisis, \n",
      "like COVID-19.\n",
      "Mr. John Fraser: My question is for the Minister of Long-Term Care.\n",
      "Hon. Merrilee Fullerton:\n",
      " Thank you for the question. We were actively monitoring these homes—as \n",
      "I’ve mentioned, red, yellow, green—homes that were particularly on the \n",
      "radar for staffing crises. We had been taking measures all along in \n",
      "terms of our emergency orders to understand and anticipate how \n",
      "government could move quickly.\n",
      "The Speaker (Hon. Ted Arnott): The supplementary question.\n",
      "Mr. John Fraser: I was hoping the minister would provide a more direct and specific answer as to when she knew.\n",
      "Hon. Merrilee Fullerton:\n",
      " We have numerous eyes watching the homes and monitoring, and making \n",
      "sure that they’re in close contact with the homes, looking at the red, \n",
      "the yellow and the green. These homes were having difficulties; there \n",
      "was no doubt about that. As we called in the military—it takes time. \n",
      "That’s why I can’t give you a precise date.\n",
      "Mr. John Fraser:\n",
      " My question again is for the Minister of Long-Term Care. Given the \n",
      "disturbing report from the Canadian military into the conditions in \n",
      "these five long-term-care homes—like these five homes, there are dozens \n",
      "of homes with double-digit deaths across this province. Given that the \n",
      "ministry’s most prominent response to the Gillese report was to only do \n",
      "resident quality inspections—full inspections—in nine out of 626 homes \n",
      "last year, Speaker, through you: How can the minister assure Ontarians \n",
      "that what was reported today isn’t happening in other homes in this \n",
      "province?\n",
      "Hon. Merrilee Fullerton:\n",
      " If you look at the devastating effect of COVID-19 on our homes that \n",
      "were already in crisis situations with staffing going into this \n",
      "pandemic, our government and my ministry were taking every measure \n",
      "possible to address that. We were looking at volunteer portals. The \n",
      "nursing associations were assisting with volunteers. We were looking \n",
      "everywhere for support, and our long-term-care homes need to be places \n",
      "where people want to work.\n",
      "The Speaker (Hon. Ted Arnott): Supplementary question.\n",
      "Mr. John Fraser:\n",
      " Speaker, why did it take us a month to raise the wages of the \n",
      "lowest-paid workers in long-term care, like other provinces did? Why did\n",
      " we take a month not to have workers working in more than one home, to \n",
      "stop the spread of disease? Why did we wait months and months to give \n",
      "ourselves the power to take over long-term-care homes and then actually \n",
      "do it?\n",
      "Hon. Merrilee Fullerton:\n",
      " Thank you for the question. I share concern over our vulnerable people \n",
      "in society. Our government embarked on a transformation of care because \n",
      "it understood the need. Ontario health teams integrating long-term care \n",
      "into our acute care setting and into the community: These are absolutely\n",
      " critical pieces as we move forward.\n",
      "Ms. Marit Stiles:\n",
      " My question is to the Premier. Mr. Speaker, back even as the pandemic \n",
      "was just unfolding, sadly, many in the sector—some of us \n",
      "included—predicted that this was going to result in a massacre of the \n",
      "vulnerable and the old. I, for one, wish that that was not true, and I \n",
      "know we all do, but it has come to be.\n",
      "The Speaker (Hon. Ted Arnott): Thank you.\n",
      "Hon. Merrilee Fullerton:\n",
      " I appreciate the anger that you have, and I appreciate your \n",
      "frustration. I look back on the last few months, dealing with our \n",
      "long-term-care system in this COVID world we live in, and it is \n",
      "absolutely heart wrenching, gut wrenching. As a physician who spent 30 \n",
      "years not only looking after our vulnerable people but looking after \n",
      "members of my own family, to insinuate that I sat there and did nothing \n",
      "is absolutely incomprehensible to me when I know the truth; I know the \n",
      "reality. I know the commitment that our government has had. I know the \n",
      "commitment that I have had. That is why I am here, and that’s why we \n",
      "took every measure, every tool, all the emergency orders. Everything was\n",
      " on the table. We acted swiftly and decisively.\n",
      "Ms. Marit Stiles: Resign. Resign.\n",
      "The Speaker (Hon. Ted Arnott): Order.\n",
      "Ms. Catherine Fife:\n",
      " To the Minister of Health: That answer, though, was not good enough for\n",
      " the people of the province. In Waterloo region, we’ve seen the painful \n",
      "fallout from declining standards in long-term care, like Revera’s Forest\n",
      " Heights home. Fifty residents—50—have died from COVID-19 in this home. \n",
      "Scared and angry families have reached out to myself and the MPP for \n",
      "Kitchener–Conestoga. Why? Because, before COVID-19, families were \n",
      "spending up to six hours a day caring for their loved ones. They knew \n",
      "that there were no minimum standards of care; they knew that the \n",
      "staffing ratios were poor; they knew that there were reduced in-person \n",
      "inspections. Families were holding this broken system together. The \n",
      "health minister was also Patient Ombudsman. She would have heard these \n",
      "serious concerns and the pain from these families. The pain and the \n",
      "suffering of these residents is not subject to cabinet confidentiality.\n",
      "The Speaker (Hon. Ted Arnott): To reply, the Minister of Health.\n",
      "Hon. Christine Elliott:\n",
      " As the Minister of Long-Term Care has stressed repeatedly today, we \n",
      "have taken this seriously from the very beginning, putting in place \n",
      "protections for people in long-term care, making sure that we had the \n",
      "personal protective equipment that they needed. It might not have been \n",
      "used by the management in some of these places, but the personal \n",
      "protective equipment was there.\n",
      "Mr. Jim Wilson:\n",
      " My question is for the Minister of Infrastructure. I am frequently \n",
      "contacted by constituents about the need for high-speed Internet in many\n",
      " areas of my riding. One recent email was from Essa township councillor \n",
      "Keith White, who’s concerned about a resident who may lose her Internet \n",
      "service. Like many residents, Keith wants to know what the province is \n",
      "doing about improving service, not removing it.\n",
      "Hon. Laurie Scott:\n",
      " Thank you to the member opposite for his question. While our government\n",
      " has been a steadfast funding partner for broadband projects in Ontario,\n",
      " like the Southwestern Integrated Fibre Technology project, known as \n",
      "SWIFT, I’m sure the experienced member opposite knows that providing \n",
      "reliable and affordable broadband service is a responsibility of the \n",
      "federal government. With that being said, I have raised this issue on \n",
      "countless calls with the federal minister responsible, urging her \n",
      "government to join Ontario and our municipal and private sector partners\n",
      " in closing the digital divide that the COVID-19 epidemic has brought to\n",
      " the forefront.\n",
      "The Speaker (Hon. Ted Arnott): The supplementary question.\n",
      "Mr. Jim Wilson:\n",
      " Thank you to the minister. I know that everyone in the House can agree \n",
      "that the need for high-speed Internet is only increasing during this \n",
      "time of the COVID-19 virus, because people are working from home and \n",
      "because of the e-platform for education.\n",
      "Hon. Laurie Scott: I thank you and I accept that challenge.\n",
      "Mr. Michael Mantha:\n",
      " My question is to the Premier. Ontarians know that these problems are \n",
      "not new. Just a few months ago, I sat here in my chair and looked at my \n",
      "leader when, along with my colleagues, we were accused of being \n",
      "fearmongers. Well, the fear is real, Mr. Speaker. Families have been \n",
      "hurting for years because of Liberal and Conservative inaction.\n",
      "The Speaker (Hon. Ted Arnott): The Minister of Long-Term Care to reply.\n",
      "Hon. Merrilee Fullerton:\n",
      " Thank you for the question. When I look at long-term care in \n",
      "Ontario—you have probably heard me say that Justice Gillese said it was a\n",
      " system that was strained. COVID-19 came along and broke it.\n",
      "The Speaker (Hon. Ted Arnott): Supplementary question, the member for Mushkegowuk–James Bay.\n",
      "Mr. Guy Bourgouin:\n",
      " The previous government and this one have been slow to fix the problems\n",
      " with long-term care. Back in 2017, the Auditor General found that the \n",
      "government cut its inspections after it did a cost-benefit analysis of \n",
      "them and found inspections to be too expensive. That change in \n",
      "inspections resulted in a backlog of over 3,000 complaints and critical \n",
      "incidents. This government kept the new system, which has meant the \n",
      "quality of inspections of Ontario’s long-term-care facilities has \n",
      "dropped.\n",
      "Hon. Merrilee Fullerton:\n",
      " Thank you for the question. Issues surrounding inspections have been \n",
      "raised from the beginning of this pandemic. We have multiple types of \n",
      "inspections. We conducted almost 3,000 inspections, as well as \n",
      "inspections of the homes every year.\n",
      "Ms. Judith Monteith-Farrell:\n",
      " My question is for the Premier. Experts have been sounding the alarm on\n",
      " the crisis in long-term care for decades. The Premier cannot pretend \n",
      "that this is the first he’s hearing of it or that he’s shocked, because \n",
      "workers represented by SEIU sent out a cry for help to the government \n",
      "and several times since, asking the government to step up and ramp up \n",
      "and care when private operators turned them away. Just in January 2020, \n",
      "Unifor commissioned the Ontario Health Coalition to produce a detailed \n",
      "report called Caring in Crisis, which they gave to the government. \n",
      "Workers have been alerting the government for years about this \n",
      "situation.\n",
      "The Speaker (Hon. Ted Arnott): Minister of Long-Term Care.\n",
      "Hon. Merrilee Fullerton:\n",
      " Thank you for the question. I do value all these questions. I think \n",
      "they are important times to address the stress and strain that long-term\n",
      " care has been under.\n",
      "The Speaker (Hon. Ted Arnott): The member for Toronto Centre.\n",
      "Ms. Suze Morrison:\n",
      " Thank you, Speaker. Both the Registered Nurses’ Association of Ontario \n",
      "and the Ontario Nurses’ Association have been telling the Minister of \n",
      "Long-Term Care and the Minister of Health about the kind of conditions \n",
      "detailed in the CAF report for years now. They both say that they begged\n",
      " for this government to improve staffing and funding in long-term care. \n",
      "The ONA even said that after calling in the Ministry of Labour to try \n",
      "and fix things, they’ve also had to take this government and some \n",
      "long-term-care homes to court because directives weren’t being followed.\n",
      "Hon. Merrilee Fullerton:\n",
      " Thank you for the question. We have been listening and taking action. \n",
      "When we look at the long-term-care homes, every operator and every home \n",
      "is required to meet the standards of care and to follow the directives \n",
      "of the Chief Medical Officer of Health. They are held to a standard that\n",
      " is not negotiable.\n",
      "Mme Lucille Collard:\n",
      " My question is for the Minister of Long-Term Care. Yesterday’s Canadian\n",
      " Armed Forces report on those five long-term-care residences is very \n",
      "alarming. We cannot tell ourselves that these are five isolated cases.\n",
      "Hon. Merrilee Fullerton:\n",
      " Thank you for raising that. We have heard from you and others. That’s \n",
      "why we have an integrated system with Ontario Health and with local \n",
      "hospitals to be engaged in what’s going on in those long-term-care homes\n",
      " with their infection prevention and control teams.\n",
      "The Speaker (Hon. Ted Arnott): The supplementary question?\n",
      "Mme Lucille Collard:\n",
      " I want to emphasize the fact that this cannot wait. We cannot wait for \n",
      "an investigation into what’s happening in our long-term-care homes now. \n",
      "Seniors have been living in these horrible situations for too long now.\n",
      "Hon. Merrilee Fullerton:\n",
      " Thank you again for the question. We’ve taken decisive actions over the\n",
      " last months with many ministries, in collaboration with the experts. We\n",
      " are doing that now, and we will continue to do that. This requires \n",
      "investigation, inspections that will require a lens to be put on this to\n",
      " understand how we move forward from this. It’s the infection control. \n",
      "It’s shoring up staffing. It’s making sure that everyone involved is \n",
      "accountable and responsible. I cannot be accountable for COVID, but I do\n",
      " take ownership of what is happening, and it’s incredibly important that\n",
      " we take ownership, that we solve these issues.\n",
      "Mrs. Jennifer (Jennie) Stevens:\n",
      " This is to the Premier. Long-term care is a serious issue for our \n",
      "veterans. The Royal Canadian Legion Ontario Command has been one of the \n",
      "louder voices to this government demanding a public inquiry into \n",
      "long-term care—on deaf ears. Now the long-term-care crisis is also \n",
      "affecting our Canadian Armed Forces members currently deployed in \n",
      "Ontario—35 members and counting. Not only have military personnel \n",
      "contracted the deadly COVID-19 while rescuing Ontario’s broken \n",
      "long-term-care system; now military sources have told reporters that \n",
      "they are truly worried about PTSD among the troops stationed here in \n",
      "Ontario long-term-care homes.\n",
      "The Speaker (Hon. Ted Arnott): Minister of Long-Term Care.\n",
      "Hon. Merrilee Fullerton:\n",
      " Thank you for the question. My heart goes out. I have great gratitude \n",
      "for the armed forces that have come in to support our homes. It was in \n",
      "our time of need, Ontario’s time of need, and they were there. I’ve said\n",
      " before: We are in a war against COVID-19. We are in a state of \n",
      "emergency, and for the armed forces to be there in Ontario’s time of \n",
      "need—I am very, very grateful for that.\n",
      "The Speaker (Hon. Ted Arnott): That concludes our question period for this morning.\n",
      "The Speaker (Hon. Ted Arnott): Call in the members. This will be a five-minute bell.\n",
      "The Speaker (Hon. Ted Arnott): I’m going to ask the members to please take their seats.\n",
      "The Speaker (Hon. Ted Arnott): All those opposed to the motion will please rise one at a time and be recognized by the Clerk.\n",
      "The Clerk of the Assembly (Mr. Todd Decker): The ayes are 56; the nays are 15.\n",
      "The Speaker (Hon. Ted Arnott): I declare the motion carried.\n",
      "The Speaker (Hon. Ted Arnott): Shall the bill be ordered for third reading? I recognize the Minister of Government and Consumer Services.\n",
      "Hon. Lisa M. Thompson: General government.\n",
      "The Speaker (Hon. Ted Arnott): The bill is referred to the Standing Committee on General Government.\n",
      "The Speaker (Hon. Ted Arnott): Call in the members. This is another five-minute bell.\n",
      "The Speaker (Hon. Ted Arnott):\n",
      " On May 26, 2020, Mr. Clark moved second reading of Bill 184, An Act to \n",
      "amend the Building Code Act, 1992, the Housing Services Act, 2011 and \n",
      "the Residential Tenancies Act, 2006 and to enact the Ontario Mortgage \n",
      "and Housing Corporation Repeal Act, 2020.\n",
      "The Speaker (Hon. Ted Arnott): All those opposed to the motion will please rise one at a time and be recognized by the Clerk.\n",
      "The Clerk of the Assembly (Mr. Todd Decker): The ayes are 53; the nays are 18.\n",
      "The Speaker (Hon. Ted Arnott): I declare the motion carried.\n",
      "The Speaker (Hon. Ted Arnott): Shall the bill be ordered for third reading? Minister of Municipal Affairs and Housing?\n",
      "Hon. Steve Clark: I’ll refer it to social policy.\n",
      "The Speaker (Hon. Ted Arnott): Referred to the Standing Committee on Social Policy.\n",
      "Mr. Jamie West:\n",
      " I have a petition that was shared through our hospital, among \n",
      "front-line health care workers—it garnered the first hundreds of \n",
      "signatures in 48 hours, with an online version having already received \n",
      "40,000 signatures—calling for the $4 pandemic pay to be fairly \n",
      "distributed. It reads as follows:\n",
      "The Speaker (Hon. Ted Arnott): When we last debated this item, the member for London West had the floor. Again, I recognize the member for London West.\n",
      "Ms. Peggy Sattler:\n",
      " I started my comments this morning with an observation about the change\n",
      " of tone that we have experienced in this Legislature over the last \n",
      "couple of days. We came here in the midst of a pandemic to talk about \n",
      "being one team—“There’s no blue team, orange team, red team or green \n",
      "team; we are one team”—and yet we have seen over the last two days a \n",
      "complete lack of collaboration, a complete lack of respect for the role \n",
      "of the official opposition.\n",
      "The Speaker (Hon. Ted Arnott):\n",
      " Ms. Sattler has moved that the motion be amended by striking out \n",
      "“Tuesdays and Wednesdays” in the second paragraph and replacing it with \n",
      "“Tuesdays, Wednesdays and Thursdays”; and\n",
      "Ms. Peggy Sattler:\n",
      " Yes. Thank you very much, Speaker. This amendment, I think, \n",
      "demonstrates the official opposition’s commitment to working on behalf \n",
      "of the people of this province. We not only want to be here two days a \n",
      "week in June; we want to be here three days a week. We want to be here \n",
      "Tuesdays, Wednesdays and Thursdays. In July, we don’t just want to be \n",
      "here three days a week; we want to be here four days a week. We want to \n",
      "work on behalf of the people of this province.\n",
      "The Speaker (Hon. Ted Arnott): Further debate?\n",
      "Hon. Paul Calandra:\n",
      " I appreciate the opportunity to get up and rise today and talk a little\n",
      " bit about the motion that was put forward by the government and just \n",
      "only briefly touch on the amendment by the opposition—in the sense that \n",
      "what the amendment does, really, is expose the Jekyll and Hyde that has \n",
      "become the NDP of today.\n",
      "The Speaker (Hon. Ted Arnott): The opposition will come to order.\n",
      "Hon. Paul Calandra:\n",
      " Obviously, Mr. Speaker, we always touch a nerve when we call out the \n",
      "NDP. Then what happens, then you get the catcalling back and forth and \n",
      "the heckling. They get really upset because what happens is that the \n",
      "members on this side of the House touch a nerve with them when they’re \n",
      "called out for the inconsistencies of their messaging.\n",
      "Interjections: Shame.\n",
      "Hon. Paul Calandra: And why?\n",
      "The Speaker (Hon. Ted Arnott): Order.\n",
      "Hon. Paul Calandra:\n",
      " I don’t know why, but that is something that they’ll have to explain to\n",
      " the people of the province of Ontario. We had to have our vote passed.\n",
      "Hon. Paul Calandra:\n",
      " Now, I’m hearing some of the members opposite chuckle, “Well, it’s \n",
      "government legislation.” That didn’t stop them—it’s a private member’s \n",
      "bill—\n",
      "The Speaker (Hon. Ted Arnott): Member for Waterloo, come to order.\n",
      "Hon. Paul Calandra:\n",
      " —and the member for Eglinton–Lawrence did really good work on this. But\n",
      " that didn’t stop them for the last, I don’t know, what, six, seven \n",
      "hours, taking credit for it, saying how they worked with us, to bring it\n",
      " forward. To their credit, they did work with us and that’s why we took \n",
      "government time to deal with a private member’s business, and we can do \n",
      "that, coming forward.\n",
      "Ms. Catherine Fife: Waterloo.\n",
      "Hon. Paul Calandra: Waterloo. She chuckles and laughs—\n",
      "Ms. Catherine Fife: Yes, I’m laughing at you.\n",
      "Hon. Paul Calandra:\n",
      " —but the deputy House leader of the opposition will know that she has \n",
      "spent hours on Zoom with me, the House leader for the Liberals, the \n",
      "leader of the Green Party, my deputy House leader—literally hours—as we \n",
      "negotiated elements of every single thing that we did here, every single\n",
      " thing.\n",
      "Hon. Paul Calandra: It’s not actually confidential, because she said it when asked by the press about working with the government.\n",
      "The Speaker (Hon. Ted Arnott): I would ask the members to take their seats.\n",
      "Ms. Teresa J. Armstrong:\n",
      " It’s my privilege to follow the government House leader today, and I \n",
      "don’t know what to say in some ways because he just always seems \n",
      "cantankerous in this Legislature. I think, what is in his cornflakes in \n",
      "the morning that he has to come into this Legislature and constantly \n",
      "just assume that we aren’t here to assist—maybe because we have a \n",
      "different way of doing it. It’s not always what you want when you want \n",
      "it.\n",
      "The Speaker (Hon. Ted Arnott): Further debate?\n",
      "Mr. Mike Schreiner:\n",
      " I want to begin my remarks today by saying that I support having us sit\n",
      " this summer so that we can focus on combatting the virus and so we can \n",
      "focus on how we can safely reopen our economy and recover from this \n",
      "crisis.\n",
      "The Speaker (Hon. Ted Arnott): Further debate?\n",
      "Mr. Rick Nicholls:\n",
      " It’s an honour and a privilege to be able to rise in this Legislature. \n",
      "I’m now in my ninth year sitting in this Legislature, and it’s been a \n",
      "true honour and privilege to represent the people of, previously, \n",
      "Chatham-Kent–Essex, now Chatham-Kent–Leamington.\n",
      "Mr. Rick Nicholls: How many? Four days. I guess I’m thinking the first week of June and then the other sittings.\n",
      "Mr. Percy Hatfield: Got to make the morning last.\n",
      "Mr. Rick Nicholls:\n",
      " There was a song in there. I know, I know; those of you who know me, \n",
      "everything is a song. Everything is a song. Thank you to the member \n",
      "from—\n",
      "Mrs. Robin Martin: It’s a good vintage.\n",
      "Mr. Rick Nicholls: Golly—from Windsor–Tecumseh, yes. He and I, we have a lot of fun with that. It’s because we’re vintage—same vintage and so on.\n",
      "Mrs. Robin Martin: You’ll be waiting a lot.\n",
      "Mr. Rick Nicholls: Okay, I might be waiting a while. I might be waiting a while.\n",
      "The Speaker (Hon. Ted Arnott): Further debate? The member for Windsor–Tecumseh.\n",
      "Mr. Percy Hatfield:\n",
      " Thank you, Speaker, and good afternoon to you. It is always an honour \n",
      "to stand in this House. My voice is somewhat squeaky today. I think it’s\n",
      " from the allergies I have. One of them is smoke, and I think a lot of \n",
      "people have been blowing smoke here in the last couple of days. I say \n",
      "that with a sense of humour, and I’ll try not to inhale much more of it.\n",
      "The Speaker (Hon. Ted Arnott): Further debate?\n",
      "Ms. Donna Skelly:\n",
      " I want to say that it is truly a privilege, truly an honour, to be able\n",
      " to stand here in the House this afternoon to speak to this motion, \n",
      "motion 77. Those same words have been uttered by many people this \n",
      "afternoon. But think about the privilege of being an elected member of \n",
      "the Ontario Legislature. It was less than two years ago that all of us \n",
      "won our seats. Our journeys are all different, whatever paths brought us\n",
      " here are all different, but we all chose to put our names on a ballot \n",
      "to work with a party that we believed represented our values and the \n",
      "values of the people in our constituencies. We won our elections and \n",
      "we’re sitting here today in a government, during perhaps the worst \n",
      "crisis ever in this province’s history.\n",
      "The Deputy Speaker (Mr. Rick Nicholls): Further debate?\n",
      "Ms. Catherine Fife:\n",
      " It has been a very interesting couple of days as we’ve come back to \n",
      "Queen’s Park. I have to say, I don’t think that the citizens of this \n",
      "province are very much interested in the parliamentary circus that has \n",
      "happened here yesterday or this morning. For their information, and, of \n",
      "course, for my parents, who are always watching, I want to let them know\n",
      " that we’re debating a motion brought forward by the government, with an\n",
      " NDP amendment, to sit for the summer. There was a night sitting motion,\n",
      " but there was a typo in it, I guess, or something like that, and so it \n",
      "didn’t come forward.\n",
      "Ms. Catherine Fife: It’s so fun when they heckle.\n",
      "The Deputy Speaker (Mr. Rick Nicholls): Further debate?\n",
      "Mr. Billy Pang: I’m\n",
      " honoured to be standing here before the House in order to support \n",
      "motion number 77, about summer sittings. This motion will authorize the \n",
      "standing committees of the Ontario Legislature to begin virtual studies \n",
      "on the following bills:\n",
      "Mr. Billy Pang: Yes, they’re very happy that they built nothing.\n",
      "The Deputy Speaker (Mr. Rick Nicholls): Further debate.\n",
      "Ms. Marit Stiles:\n",
      " It really is a pleasure to stand here today and speak to this motion. \n",
      "When I was leaving the house this morning, my teenage daughters looked \n",
      "at me and said, “What’s wrong? What are you doing?” because I was \n",
      "dressed for work in a way they hadn’t seen in a while. They only get to \n",
      "see it every couple of weeks now with the way this schedule is working.\n",
      "Ms. Marit Stiles:\n",
      " Thank you, yes—from home. They’re working from home as well. They’re \n",
      "dealing with the most difficult casework, the most difficult calls, \n",
      "people who are really struggling. It happens and it comes in waves. One \n",
      "week, it’s a crisis in rent; the next week, it’s, “Where am I going to \n",
      "get food?”; and the next week, it’s, “My small business is closing,” and\n",
      " it’s just on and on. We are all working, I think, so hard to come up \n",
      "with solutions that work for people in our communities. I want to \n",
      "acknowledge that because I think it’s really important to say that we \n",
      "are all working really hard here together.\n",
      "The Deputy Speaker (Mr. Rick Nicholls): Further debate?\n",
      "Mr. Sheref Sabawy:\n",
      " I am honoured to rise today to support the government motion. We are \n",
      "adding more sitting time to allow us to move fast to address the issues \n",
      "which we need to tackle. Mr. Speaker, all the members of this \n",
      "Legislative Assembly have been very busy since the start of this \n",
      "COVID-19, especially when it comes to addressing cases and requests from\n",
      " constituencies, helping food banks, addressing PPE needs for different \n",
      "service providers in their ridings, and participating in various virtual\n",
      " town hall meetings to consult or inform our constituents about \n",
      "different imminent issues affecting their day-to-day lives.\n",
      "Ms. Marit Stiles: Point of order.\n",
      "The Deputy Speaker (Mr. Rick Nicholls): On a point of order, the member for Davenport.\n",
      "Ms. Marit Stiles:\n",
      " On a point of order, I’d like to correct the record. Incorrectly, I was\n",
      " looking at the statistics from April 28 when I referred to the number \n",
      "of deaths in long-term care instead of May 27. On April 28, it was 700, \n",
      "but the actual number today is 1,587 residents and patients in long-term\n",
      " care.\n",
      "The Deputy Speaker (Mr. Rick Nicholls): Thank you very much. That is a point of order, and you have every right to correct your record.\n",
      "Ms. Suze Morrison:\n",
      " It’s certainly a pleasure to rise in the House today to bring forward \n",
      "the voices of the people in my community in Toronto Centre.\n",
      "The Deputy Speaker (Mr. Rick Nicholls): Thank you. Further debate?\n",
      "Ms. Christine Hogarth:\n",
      " I’d like to start with just thanking all our paramedics. This is a \n",
      "reminder that this is paramedic week. When March break came upon us, it \n",
      "was a different world. My friend Gino and his wife, Louise—Gino is a \n",
      "paramedic, and his wife, Louise, is a nurse. We had plans to get our \n",
      "families—my stepdaughters—together for a March break weekend. \n",
      "Unfortunately, when things happened, he was called back to work \n",
      "immediately, and we have not seen them since. We actually haven’t seen \n",
      "our stepdaughters since, because they live in a different community. I \n",
      "just want to thank all those paramedics out there who are doing their \n",
      "jobs, looking after us, looking after our loved ones, because they are \n",
      "there for us on the front lines. When duty calls, they’re there for us. \n",
      "So thank you to Gino and thank you to his wife, Louise.\n",
      "The Deputy Speaker (Mr. Rick Nicholls): Further debate?\n",
      "Mr. Jamie West: I appreciate the opportunity to speak on behalf of the members of Sudbury and on behalf of the province as well.\n",
      "The Deputy Speaker (Mr. Rick Nicholls): Further debate?\n",
      "Mrs. Nina Tangri: It’s my pleasure to rise in the House today to speak on today’s motion, introduced by our esteemed member from Barrie–Innisfil.\n",
      "The Deputy Speaker (Mr. Rick Nicholls): Further debate?\n",
      "Mr. Michael Mantha:\n",
      " It’s always a joy to take my place and be here in my seat, away from \n",
      "the beautiful riding of Algoma–Manitoulin, but definitely speaking on \n",
      "behalf of the good people. I need to inform the people back home that, \n",
      "indeed, the tone has changed here at the Legislature.\n",
      "The Deputy Speaker (Mr. Rick Nicholls): It is now close to 6 o’clock. This House will stand adjourned until Tuesday, June 2, at 9 o’clock.\n"
     ]
    }
   ],
   "source": [
    "for s in speaker_starts:\n",
    "    text = s.getText()\n",
    "    #name, statement = text.split(\":\")\n",
    "    #print(name)\n",
    "    #print(s.getText())\n",
    "    \n",
    "    if \":\" in text:\n",
    "        \n",
    "        print(text)\n",
    "        "
   ]
  },
  {
   "cell_type": "markdown",
   "metadata": {},
   "source": [
    "These are just beginnings of when the speakers start talking, for any given speaker, there'll be some number of plan <p> paragraphs"
   ]
  },
  {
   "cell_type": "code",
   "execution_count": 47,
   "metadata": {},
   "outputs": [],
   "source": [
    "p = soup.find('p')"
   ]
  },
  {
   "cell_type": "code",
   "execution_count": 48,
   "metadata": {},
   "outputs": [
    {
     "data": {
      "text/plain": [
       "{}"
      ]
     },
     "execution_count": 48,
     "metadata": {},
     "output_type": "execute_result"
    }
   ],
   "source": [
    "p.attrs"
   ]
  },
  {
   "cell_type": "markdown",
   "metadata": {},
   "source": [
    "this method is for getting a dictionary where the key is the name of a house member, and the values are a list of their statements"
   ]
  },
  {
   "cell_type": "code",
   "execution_count": 135,
   "metadata": {},
   "outputs": [],
   "source": [
    "text_by_speaker = {}\n",
    "\n",
    "name = ''\n",
    "for p in paragraphs:\n",
    "    text = p.getText()\n",
    "    attributes = p.attrs\n",
    "    #print(text)\n",
    "    if attributes.get('class'):\n",
    "        #print(attributes)\n",
    "        if 'speakerStart' in attributes.get('class'):\n",
    "            #print('speaker Start')\n",
    "            name = text.split(':')[0]\n",
    "            \n",
    "            para = ''.join(text.split(':')[1:])\n",
    "            #print (name)\n",
    "            #print(para)\n",
    "            #print(\"\\n\")\n",
    "        else:\n",
    "            para = text\n",
    "            \n",
    "    \n",
    "    if text_by_speaker.get(name, None) == None:\n",
    "        text_by_speaker[name] = [text]\n",
    "        \n",
    "    else:\n",
    "        text_by_speaker.get(name).extend([text])"
   ]
  },
  {
   "cell_type": "code",
   "execution_count": 137,
   "metadata": {},
   "outputs": [
    {
     "data": {
      "text/plain": [
       "['Ms. Andrea Khanjin:\\n I move that, notwithstanding standing order 7(a)(i) or any special \\norder of the House, when the House adjourns on June 3, 2020, it shall \\nstand adjourned until Tuesday, June 16, 2020, and the House shall then \\ncontinue to meet during an extension of the spring meeting period in \\naccordance with the following schedule:',\n",
       " 'Tuesdays and Wednesdays during the weeks of June 15, 2020, and June 22, 2020; and',\n",
       " 'Mondays, Tuesdays and Wednesdays during the weeks of July 6, 2020, July 13, 2020, and July 20, 2020; and',\n",
       " 'That, during these meetings, members be permitted \\nto speak and vote from any member’s desk in the chamber in order to \\nobserve recommended physical distancing; the proceeding “Introduction of\\n Visitors” shall be suspended and the afternoon routine shall commence \\nat 1 p.m.; and',\n",
       " 'That, in order to practise appropriate physical \\ndistancing during recorded divisions, standing orders 30(c), 32(b) and \\n37 shall be suspended until Monday, September 14, 2020, and the \\nfollowing substituted:',\n",
       " '“30(c) When a recorded division is required, \\nmembers shall proceed to the members’ lobbies to register their vote \\nwith the Clerks. The ayes shall be recorded in the east members’ lobby \\nand the nays shall be recorded in the west members’ lobby. Subject to \\nstanding order 13, every member shall have their vote recorded in this \\nmanner.',\n",
       " '“(c.1) Thirty minutes shall be allotted to the \\nconduct of each vote, during which time the division bell shall ring, \\nand after which time no further votes shall be recorded.',\n",
       " '“(c.2) The whips of the recognized parties, or \\ntheir designates, may attend the members’ lobbies to observe the taking \\nof the vote.',\n",
       " '“(c.3) For each vote held under this proceeding \\nduring the afternoon routine, 30 minutes shall be added to the end of \\nthe sitting day, and the House may continue to meet after 6 p.m. \\naccordingly, if requested by the government House leader.',\n",
       " '“32(b) Excluding the time taken to conduct \\nrecorded votes as determined by standing order 30(c.3), the time \\nallotted for the afternoon routine each day shall not exceed 90 minutes.\\n At the end of that time, the Speaker shall interrupt and shall put \\nevery question necessary to dispose of the proceeding currently \\noccupying the House, and thereafter immediately call orders of the day.',\n",
       " '“37. Any divisions deferred under standing orders 10(c) or 30(h) shall be disposed of consecutively.',\n",
       " '“37.1 If deferred votes continues past 1 p.m. on \\nany day, the Speaker shall immediately call reports by committees once \\nall deferred votes have been taken”; and',\n",
       " 'That, notwithstanding the order of the House dated\\n March 19, 2020, the Standing Committee on General Government shall be \\nauthorized to meet on Monday, June 8, 2020, from 10 a.m. to 12 noon and 1\\n p.m. to 6 p.m. and on Tuesday, June 9, 2020, from 10 a.m. to 12 noon \\nand 1 p.m. to 6 p.m. for the purpose of public hearings on Bill 156, An \\nAct to protect Ontario’s farms and farm animals from trespassers and \\nother forms of interference and to prevent contamination of Ontario’s \\nfood supply; and',\n",
       " 'That the Clerk of the Committee, in consultation \\nwith the committee Chair, be authorized to arrange the following with \\nregard to Bill 156:',\n",
       " '—that the deadline for requests to appear be 10 a.m. on Thursday, June 4, 2020; and',\n",
       " '—that the Clerk of the Committee provide a list of\\n all interested presenters to each member of the subcommittee and their \\ndesignate following the deadline for requests to appear; and',\n",
       " '—that each member of the subcommittee or their \\ndesignate provide the Clerk of the Committee with a prioritized list of \\npresenters to be scheduled, chosen from the list of all interested \\npresenters received by the Clerk by 6 p.m. on Thursday, June 4, 2020; \\nand',\n",
       " '—that the deadline for written submissions be 6 p.m. on Tuesday, June 9, 2020; and',\n",
       " '—that the deadline for filing amendments to the \\nbill with the Clerk of the Committee shall be 6 p.m. on Wednesday, June \\n10, 2020; and',\n",
       " '—that the subcommittee on committee business shall\\n be authorized to otherwise determine the method of proceeding on the \\nbill; and',\n",
       " 'That the committee be authorized to meet on \\nFriday, June 12, 2020, from 10 a.m. to 12 noon and 1 p.m. to 9 p.m. and \\non Monday, June 15, 2020, from 6 p.m. to 9 p.m. for the purpose of \\nclause-by-clause consideration of the bill; and',\n",
       " '0910',\n",
       " 'On Monday, June 15, 2020, at 7 p.m., those \\namendments which have not yet been moved shall be deemed to have been \\nmoved, and the Chair of the committee shall interrupt the proceedings \\nand shall, without further debate or amendment, put every question \\nnecessary to dispose of all remaining sections of the bill and any \\namendments thereto. At this time, the Chair shall allow one 20-minute \\nwaiting period pursuant to standing order 132(a); and',\n",
       " 'That the committee shall report the bill to the House no later than the sitting day following Monday, June 15, 2020; and',\n",
       " 'That, should the committee fail to report the bill\\n on that day, the bill shall be deemed to be passed by the committee and\\n shall be deemed to be reported to and received by the House; and',\n",
       " 'That, upon receiving the report of the Standing \\nCommittee on General Government, the Speaker shall put the question for \\nadoption of the report forthwith, and at such time the bill shall be \\nordered for third reading, which order may be called that same day; and',\n",
       " 'That, notwithstanding the order of the House dated\\n March 19, 2020, the Standing Committee on Social Policy shall be \\nauthorized to meet on Monday, June 8, 2020, from 10 a.m. to 12 noon and 1\\n p.m. to 6 p.m., on Tuesday, June 9, 2020, from 10 a.m. to 12 noon and 1\\n p.m. to 6 p.m., and on Wednesday, June 10, 2020, from 9 a.m. to 10:15 \\na.m. and 1 p.m. to 6 p.m. for the purpose of public hearings on Bill \\n171, An Act to enact the Building Transit Faster Act, 2020 and make \\nrelated amendments to other Acts; and',\n",
       " 'That the Clerk of the Committee, in consultation \\nwith the committee Chair, be authorized to arrange the following with \\nregard to Bill 171:',\n",
       " '—that the deadline for requests to appear be 10 a.m. on Thursday, June 4, 2020; and',\n",
       " '—that each member of the subcommittee or their \\ndesignate provide the Clerk of the Committee with a prioritized list of \\npresenters to be scheduled, chosen from the list of all interested \\npresenters received by the Clerk by 6 p.m. on Thursday, June 4, 2020; \\nand',\n",
       " '—that the deadline for written submissions be 6 p.m. on Wednesday, June 10, 2020; and',\n",
       " '—that the deadline for filing amendments to the \\nbill with the Clerk of the Committee shall be 6 p.m. on Friday, June 12,\\n 2020; and',\n",
       " '—that the subcommittee on committee business shall\\n be authorized to otherwise determine the method of proceeding on the \\nbill; and',\n",
       " 'That the committee be authorized to meet on \\nMonday, June 15, 2020, from 10 a.m. to 12 noon and 1 p.m. to 6 p.m. and \\non Tuesday, June 16, 2020, from 9 a.m. to 10:15 a.m. and 1 p.m. to 6 \\np.m. for the purpose of clause-by-clause consideration of the bill; and',\n",
       " 'On Tuesday, June 16, 2020, at 4 p.m., those \\namendments which have not yet been moved shall be deemed to have been \\nmoved, and the Chair of the committee shall interrupt the proceedings \\nand shall, without further debate or amendment, put every question \\nnecessary to dispose of all remaining sections of the bill and any \\namendments thereto. At this time, the Chair shall allow one 20-minute \\nwaiting period pursuant to standing order 132(a); and',\n",
       " 'That the committee shall report the bill to the House no later than the sitting day following Tuesday, June 16, 2020; and',\n",
       " 'That, should the committee fail to report the bill\\n on that day, the bill shall be deemed to be passed by the committee and\\n shall be deemed to be reported to and received by the House; and',\n",
       " 'That, upon receiving the report of the Standing \\nCommittee on Social Policy, the Speaker shall put the question for \\nadoption of the report forthwith, and at such time the bill shall be \\nordered for third reading, which order may be called that same day; and',\n",
       " 'That the order of the House dated Tuesday, March \\n10, 2020, referring Bill 175, An Act to amend and repeal various Acts \\nrespecting home care and community services, to the Standing Committee \\non Social Policy be discharged and the bill be instead referred to the \\nStanding Committee on the Legislative Assembly; and',\n",
       " 'That, notwithstanding the order of the House dated\\n March 19, 2020, the Standing Committee on the Legislative Assembly \\nshall be authorized to meet on Monday, June 15, 2020, from 10 a.m. to 12\\n noon and 1 p.m. to 6 p.m., on Tuesday, June 16, 2020, from 9 a.m. to \\n10:15 a.m. and 1 p.m. to 6 p.m., and on Wednesday, June 17, 2020, from 9\\n a.m. to 10:15 a.m. and 1 p.m. to 6 p.m. for the purpose of public \\nhearings on Bill 175; and',\n",
       " 'That the Clerk of the Committee, in consultation \\nwith the committee Chair, be authorized to arrange the following with \\nregard to Bill 175:',\n",
       " '—that the deadline for requests to appear be 6 p.m. on Tuesday, June 9, 2020; and',\n",
       " '—that the Clerk of the Committee provide a list of\\n all interested presenters to each member of the subcommittee and their \\ndesignate following the deadline for requests to appear; and',\n",
       " '—that each member of the subcommittee or their \\ndesignate provide the Clerk of the Committee with a prioritized list of \\npresenters to be scheduled, chosen from the list of all interested \\npresenters received by the Clerk by 6 p.m. on Wednesday, June 10, 2020; \\nand',\n",
       " '—that the deadline for written submissions be 6 p.m. on Wednesday, June 17, 2020; and',\n",
       " '—that the deadline for filing amendments to the \\nbill with the Clerk of the Committee shall be 6 p.m. on Friday, June 19,\\n 2020; and',\n",
       " '—that the subcommittee on committee business shall\\n be authorized to otherwise determine the method of proceeding on the \\nbill; and',\n",
       " 'That the committee be authorized to meet on \\nMonday, June 22, 2020, from 10 a.m. to 12 noon and 1 p.m. to 6 p.m., and\\n on Tuesday, June 23, 2020, from 9 a.m. to 10:15 a.m. and 1 p.m. to 6 \\np.m. for the purpose of clause-by-clause consideration of the bill; and',\n",
       " 'On Tuesday, June 23, 2020, at 4 p.m., those \\namendments which have not yet been moved shall be deemed to have been \\nmoved, and the Chair of the Committee shall interrupt the proceedings \\nand shall, without further debate or amendment, put every question \\nnecessary to dispose of all remaining sections of the bill and any \\namendments thereto. At this time, the Chair shall allow one 20-minute \\nwaiting period pursuant to standing order 132(a); and',\n",
       " 'That the committee shall report the bill to the House no later than the sitting day following Tuesday, June 23, 2020; and',\n",
       " 'That, should the committee fail to report the bill\\n on that day, the bill shall be deemed to be passed by the committee and\\n shall be deemed to be reported to and received by the House; and',\n",
       " 'That, upon receiving the report of the Standing \\nCommittee on the Legislative Assembly, the Speaker shall put the \\nquestion for adoption of the report forthwith, and at such time the bill\\n shall be ordered for third reading, which order may be called that same\\n day; and',\n",
       " 'That, notwithstanding the order of the House dated\\n March 19, 2020, the Standing Committee on Justice Policy shall be \\nauthorized to meet on Wednesday, June 10, 2020, from 10 a.m. to 12 noon \\nand 1 p.m. to 6 p.m., on Thursday, June 11, 2020, from 10 a.m. to 12 \\nnoon and 1 p.m. to 6 p.m., and on Friday, June 12, 2020 from 10 a.m. to \\n12 noon and 1 p.m. to 6 p.m. for the purpose of public hearings on Bill \\n161, An Act to enact the Legal Aid Services Act, 2019 and to make \\nvarious amendments to other Acts dealing with the courts and other \\njustice matters; and',\n",
       " '0920',\n",
       " 'That the Clerk of the Committee, in consultation \\nwith the committee Chair, be authorized to arrange the following with \\nregard to Bill 161:',\n",
       " '—that the deadline for requests to appear be 6 p.m. on Friday, June 5, 2020; and',\n",
       " '—that the Clerk of the Committee provide a list of\\n all interested presenters to each member of the subcommittee and their \\ndesignate following the deadline for requests to appear; and',\n",
       " '—that each member of the subcommittee or their \\ndesignate provide the Clerk of the Committee with a prioritized list of \\npresenters to be scheduled, chosen from the list of all interested \\npresenters received by the Clerk by 12 noon on Monday, June 8, 2020; and',\n",
       " '—that the deadline for written submissions be 6 p.m. on Friday, June 12, 2020; and',\n",
       " '—that the deadline for filing amendments to the \\nbill with the Clerk of the Committee shall be 6 p.m. on Monday, June 15,\\n 2020; and',\n",
       " '—that the subcommittee on committee business shall\\n be authorized to otherwise determine the method of proceeding on the \\nbill; and',\n",
       " 'That the committee be authorized to meet on \\nWednesday, June 17, 2020, from 9 a.m. to 10:15 a.m. and 1 p.m. to 6 p.m.\\n and on Thursday, June 18, 2020, from 10 a.m. to 12 noon and 1 p.m. to 6\\n p.m. for the purpose of clause-by-clause consideration of the bill; and',\n",
       " 'On Thursday, June 18, 2020, at 4 p.m., those \\namendments which have not yet been moved shall be deemed to have been \\nmoved, and the Chair of the committee shall interrupt the proceedings \\nand shall, without further debate or amendment, put every question \\nnecessary to dispose of all remaining sections of the bill and any \\namendments thereto. At this time, the Chair shall allow one 20-minute \\nwaiting period pursuant to standing order 132(a); and',\n",
       " 'That the committee shall report the bill to the House no later than the sitting day following Thursday, June 19, 2020; and',\n",
       " 'That, should the committee fail to report the bill\\n on that day, the bill shall be deemed to be passed by the committee and\\n shall be deemed to be reported to and received by the House; and',\n",
       " 'That, upon receiving the report of the Standing \\nCommittee on Justice Policy, the Speaker shall put the question for \\nadoption of the report forthwith, and at such time the bill shall be \\nordered for third reading, which order may be called that same day.',\n",
       " 'Ms. Andrea Khanjin:\\n Thank you, Mr. Speaker. As you see by this motion, when our government \\ngot elected, we hit the ground running to accomplish so much for \\nOntarians. When I was knocking on doors and talking to many of my \\nconstituents, they often said, “What does the government really do for \\nus? How can they achieve progress? We see a lot of debate, we see a lot \\nof bickering, and we see a lot of things in the debate. What about grand\\n achievements and really delivering on promises?”',\n",
       " 'You often heard from us, “Promises made, promises \\nkept,” and that comes with great feedback. I know that the residents of \\nBarrie–Innisfil, especially during this time of COVID-19, have really \\npraised this government for some of the economic achievements we have \\nachieved, because we’re in a better position to weather the storm.',\n",
       " 'Of course this is a health pandemic—and I want to,\\n of course, thank all the front-line workers for all their efforts, \\nwhether it be Stevenson Memorial or whether it be Royal Victoria \\nHospital or Southlake—all hospitals that are very close to my riding. \\nThey’ve been doing incredible work. I just think of a lot of the \\nretirement homes and long-term-care homes with a lot of their nurses and\\n their PSWs who are doing so much work.',\n",
       " 'It’s one of the reasons that, on personal support \\nworker appreciation day locally, I had launched a recognition award for \\nthe community to get involved, where they can nominate their \\nlocal—whether it’s a nurse or whether it’s a personal support worker—to \\nnominate to recognize them for what they’re doing today, because they’re\\n working really hard. We need to respect that and do our part as well, \\nand to keep plugging away and working through the summer. We really owe \\nit to all Ontarians. We owe it to those who are keeping us safe and we \\nowe it to the taxpaying residents of this province.',\n",
       " 'When you talk to nurses who are working day in and\\n day out—we’re talking about sitting for a few hours a day, not even \\ngoing into midnight, not even going to 4 a.m. But some of these \\nnurses—and I want to thank many of them. One of them is a good friend of\\n mine, Andrea Logan. She has been working, day in and day out, at Royal \\nVictoria hospital on a lot of the shifts. She has been on different \\nfloors doing testing and what have you. I wanted to take this \\nopportunity to also thank her for all her efforts.',\n",
       " 'She is a single mom and she has a 12-year-old son.\\n You can only think of the challenges that she has had to overcome, like\\n finding daycare. Of course, that’s something our government also took \\naction on: providing daycare for our emergency workers and individuals \\nlike her, so that she can have someone take care of her son. So that’s \\nwonderful to see.',\n",
       " 'I would be remiss if I didn’t mention our \\nparamedics, because it’s paramedics’ week. Certainly, they’re working \\nday in and day out, and they look to their parliamentarians to respect \\nthe breadth of democracy and those who came before us, who fought in \\nWorld War I and World War II so we can have the freedoms that we uphold \\nwithin this Legislature, to debate and to have that discussion, which is\\n another reason why this motion is so important.',\n",
       " 'Going back to paramedics’ week and how important \\nit is to recognize those paramedics: When you do call and you need \\nsomeone to help, they’re often the first ones to the scene, and they’re \\nthere to help you during challenging times. I know that when you do make\\n that phone call, you’re in a very vulnerable situation. They are calm, \\ncollected and they are really out there.',\n",
       " 'They’ve always done a lot in the community. I \\nknow, back home in the Simcoe county area, every summer they do the \\nstretcher race. I know that the minister for women and children did that\\n stretcher race with me last summer. We would take turns riding the \\nstretcher. They are all pushing the stretcher. They’re not just doing it\\n for publicity; they’re doing it for the community, for fundraising. \\nThey did it to raise money for a cath lab, to save lives at Royal \\nVictoria hospital. If you are a heart patient, we know that time is \\nmuscle, and that the sooner you can get that heart patient to the \\nhospital, the quicker you can save their life. So they went out on this \\nvery hot day—I would say that it’s very much like the day we have \\ntoday—and they were just pushing the stretcher, and here I was, lying in\\n it.',\n",
       " 'So I want to thank all the Simcoe county \\nparamedics, of course, for all of the work they’ve been doing every \\nyear, day in and day out. They don’t take Christmas off. They don’t take\\n Thanksgiving off. They’re always there. They don’t take summers off \\neither. Again, we owe it to them to do our work as best as we can to \\nuphold democracy, just as they do in the health care field, upholding \\ntheir medical obligations and being out there to save lives.',\n",
       " 'On the topic of saving lives, we had, yesterday, a\\n grand achievement within this Legislature. My colleague from \\nEglinton–Lawrence tabled a bill that does that very thing: save lives \\nfor those who may need access to a defibrillator. There are many public \\nareas that don’t have a defibrillator.',\n",
       " 'I think of, back home in Barrie—we have a very \\ntragic story: Chase McEachern. He was a young hockey player and he \\nneeded a defibrillator, but it was not there in time. So his parents—it \\nwas a challenging time for them, of course, to mourn the loss of their \\nyoung son—wanted to do something about it to prevent other moms and dads\\n to see that happen to their children. So many hockey arenas now have a \\ndefibrillator. But that same opportunity and possibility to save lives \\nthat is in our hockey arenas today isn’t in all public areas. For that \\nfamily, the Chase McEachern family in Barrie, it means so much to them.',\n",
       " 'I wanted to thank the member from \\nEglinton–Lawrence for her ability to get this bill forward and pass it, \\nand work with so many people. We worked with members of the opposition \\non it as well, and there was support from all around. It really shows \\nyou what can be accomplished in this Legislature when we do work \\ntogether. And hey, we’ve got all summer now to work together, so there’s\\n a lot of things to look forward to.',\n",
       " 'Again, when we talk about our member, she has been\\n working really hard on that private member’s bill, so it’s good to see \\nit achieved. The fact that it is going to be saving lives across the \\nprovince—and that we can look back and say that during this pandemic, \\nyes, the government and the entire Legislature unanimously agreed on \\nmotions like the emergency orders motions. We worked together on that. \\nProtecting workers: We came back and did that.',\n",
       " '0930',\n",
       " 'But it shouldn’t just stop there; we need to keep \\ngoing. There’s a lot more business that we need to have happen within \\nthis Legislature to bring progress to Ontario, because when you think \\nabout it, yes, there is a health care pandemic, but there are huge \\neconomic consequences. For the first time, I’ve heard a lot of \\nindividuals from all different walks and parties actually talk about \\nbusinesses and the struggles they are going through. We have that \\ncommonality here in the Legislature, wanting to help small businesses, \\nwhich is great because, as we know, they are the creators of the mass \\nmajority of jobs in our ridings.',\n",
       " 'You just take a drive in anyone’s riding, whether \\nyou’re in Kenora or you’re in Barrie or you’re in Muskoka or \\nEglinton–Lawrence or Markham–Stouffville: You see these businesses and \\ntheir empty parking lots. They’re empty. Finally they’re coming back, \\nbut now that they are able to open their doors, if they have a \\nstreet-front entrance, they are able to work, so why can’t they expect \\nthe same of their elected members? Which is why we are here—to really \\nstand up for them and get things moving.',\n",
       " 'We talk about the supply chain. One of the things \\nin this motion is talking very much about the supply chain when it comes\\n to our agriculture sector. I know that in Innisfil—it’s not a surprise;\\n it’s a statistic all around the world: We have more chickens than \\npeople. The agriculture sector there is certainly thriving. There’s not \\ngoing to be a takeover any time soon, I’m hoping, but it is certainly \\nthriving. We have a lot of dairy farmers, and certainly we’ve seen the \\nimpacts of dairy within this pandemic, of course.',\n",
       " 'I know that our Minister of Agriculture, Food and \\nRural Affairs—I’ve been on several phone calls and Zoom meetings with \\nhim and with my local agricultural workers. These folks don’t get \\nthanked enough, so I want to thank all the agri-food workers, those \\nworking at food processing plants, and our farmers. You’ve really \\nstepped up to the plate for this pandemic. I’ve seen countless stories \\nof food bank donations. I know that our colleague from Mississauga has \\nbeen working with Sobeys to deliver food. We’re calling him our new Uber\\n Eats politician because he’s bringing food to all communities. In fact,\\n in my own community, Nutrafarms is a place that provides local meats. \\nThey were able to donate some of their local meats to his efforts to \\ndeliver to families. Likewise, we are working with some local onion \\nfarmers to get some onions to make some recipes that he’ll be delivering\\n to residents. So you really see how important that food supply chain \\nis.',\n",
       " 'We need to address some of the red tape that \\nhappens within that food supply chain, and I certainly heard a lot of \\nthat through folks in my riding and a lot of farmers, and that’s why one\\n of the things we will be debating this summer has to do with just that:\\n with our agricultural sector and being able to get at some of the red \\ntape that exists within the ag sector, but also to protect our farmers \\nand protect the livestock. I think that a lot of us talk about \\nbiosecurity. That’s so important, and that is certainly something we’re \\ngoing to be doing.',\n",
       " 'The other thing we talk about is how we actually \\ntransport those goods. We’ve got our member from Mississauga, who is \\ngetting in his car and delivering the food, but you need proper roads \\nand you need proper bridges to get those supplies to market. When it \\ncomes to infrastructure and transit development of any kind, that is \\njust so important to the entire supply chain, so of course it’s a very \\nbig priority. It’s something we embarked on as a province. It’s \\ncertainly a challenge, especially when we think about the Toronto \\nTransit Commission and being able to fix some of that movement of \\npeople. You can say that that is the service sector, getting people from\\n point A to point B to their jobs, to their loved ones, and to get those\\n support workers to their destination if that’s the method of \\ntransportation they are using. They rely on and expect that when they \\nare working really hard day and night and working those night shifts, \\nthey have proper transit that gets them to where they need to go. It’s \\none of the things we’ll be debating again this summer and will be \\nworking on, because a lot of those individuals are working and they rely\\n on us to do the same.',\n",
       " 'So, again, tying this back to the motion at hand, \\nand thanking all those—something that hasn’t been mentioned a lot, but I\\n know that our Minister of Transportation, our Associate Minister of \\nTransportation, and our workers who are getting us from—the GO train \\ndrivers are still operating. The GO train, the GO bus drivers and the \\nToronto Transit Commission drivers, whether they’re driving the subway \\nor the streetcar—all the stuff that they’re doing. The maintenance crew \\nthat are behind all of those efforts—to thank them, because they’re \\nworking through this whole pandemic. If there is a call for something \\nthat needs to be repaired, no matter what time of day it is, they’re \\nthere.',\n",
       " 'Likewise, as parliamentarians, we owe it to them, \\ntoo, to be here and to be able to work throughout the summer on \\naccomplishments for taxpaying residents of Ontario and all Ontarians. \\nIt’s so vital. But I did want to also take that moment to thank those \\nworkers because they’re out there, getting many residents to where they \\nneed to be, and doing it safely. We’ve seen many examples around the \\nworld of how you can use public transit safely. Certainly, all of them \\nare washing their hands or they’re wearing gloves. We’ve heard a lot \\nabout, if you are in confined spaces, to wear a mask, and some of those \\nthings that you have to do.',\n",
       " 'On the topic of masks, it’s incredible to see how \\nmany people in our communities—I’m sure that all of you have examples of\\n the families that step up to make these homemade masks. I know that the\\n Richardson family—Jennifer Richardson’s husband has been at his sewer \\nthis whole time, making handmade masks for everyone in Barrie–Innisfil. I\\n have picked up several masks from him for myself—I have one today with \\nme. Certainly, I wear that when I need to wear it, but I have also been \\nable to pick up masks for our senior communities that are in independent\\n living and in their homes, and they may need those things. They’ve \\nreally stepped up to the plate to make those masks. Certainly, we’ve \\nseen many other individuals throughout the riding who have been making \\nthose masks.',\n",
       " 'I know that as I look around to my colleagues, as \\nthey were walking in here today some had their masks on. A lot of them \\nwere also made in their ridings—homemade. Some of them have personal \\ntouches and different colours; that’s really nice to see. But that’s the\\n positive side of things. I think there is a lot of negativity out \\nthere. There is a lot of anxiety and stress. We have to hold on to those\\n really positive stories in our community and thank the individuals for \\nstepping up when it comes to this pandemic.',\n",
       " 'A lot of them who may be at home—they don’t have \\nthe ability to have a job. Maybe they have applied for the Canadian \\nemergency relief benefit or other things. At least they know that, with \\nthe job protection legislation that we passed in this Legislature \\nunanimously with support by all parties, they will still have a job to \\ngo to. But all of us also owe it to those individuals. We’re so \\nfortunate to represent the people of Ontario. We have to ensure that we \\nare here, working and passing legislation that will affect them \\nfirst-hand because, coming out of this pandemic, it’s going to be all \\nhands on deck as to how we get the economy rolling again.',\n",
       " 'I know that the Premier has committed to never \\nbeing reliant on other countries or being vulnerable to not be able to \\nsecure personal protection equipment. That’s a huge economic opportunity\\n in our province. We just saw yesterday—we’ve got the member for Whitby \\nhere. The General Motors plant is going to be making a lot of masks, \\nwhich is incredible. That is a made-in-Canada and made-in-Ontario \\nsolution to this huge problem. But think about the jobs it’s going to \\ncreate for the member for Whitby and those workers that can go back to \\nwork.',\n",
       " 'Our Minister of Finance has launched these jobs \\nand recovery committees. I’ve had several already. One thing I had \\nmentioned on the jobs and recovery committee is, when it comes to the \\nauto sector and what they’re doing, they test their workers every day. \\nThey’re screening them. And they can call in; if they have any symptoms,\\n they don’t have to go in to work. All these things are happening to \\nprotect our workers.',\n",
       " 'When we came together in this House to pass that \\nbill, it was great because it really complemented a lot of those efforts\\n that they’re doing right now within the other sectors of our economy \\nthat are so vital to keep things rolling and to keep things going. \\nThat’s going to be so critical after this, as we get through this \\ntogether and as we turn our minds to what the Ontario economy looks \\nlike.',\n",
       " 'A lot of the things that are in the motion that we\\n are debating today are very much a part of that: rolling the economy \\nand being able to say, “Within the ag sector, what are we doing to \\nprotect the supply chain, to protect our livestock and to protect our \\nfarmers? But also, how do we get people moving with transit, and \\nthanking all those transit workers?”',\n",
       " 'When it comes to community care and community \\nmedicine, we’ve seen how important it is. I’ve seen it. I spoke to it \\nlast week—our many senior homes in the ridings and the amount of work \\nthat those are doing. But there are a lot of seniors that live \\nindependently in their home. They want to stay there as long as \\npossible.',\n",
       " 'Sandycove Acres is known to be the community of \\ngolf carts, and yes, they get around the community in their golf carts. \\nTheir most famous event is their Canada Day parade, where they all \\ndecorate their golf carts and go out and parade, and I’m in there and my\\n fellow member of Parliament is there. Unfortunately, it won’t be \\nhappening like it normally does this year, but we’ll find an alternative\\n way to make it happen safely.',\n",
       " '0940',\n",
       " 'But what did those members of Sandycove Acres do \\nto help this pandemic? There were these ladies that lunch who get \\ntogether, a group of seniors who get together, and they do fundraisers. \\nThe Barrie women’s shelter often relies on many donations. They receive \\nsome government funding, both federally and provincially, and through \\nthe county. But these ladies couldn’t get together to physically lunch \\nbecause they wanted to be safe, of course—they’re part of the more \\nvulnerable population—so they went online. They took to Facebook instead\\n of all getting together for lunch, and they asked everyone to put in \\n$10. Their goal was to raise about $1,000, and they exceeded that goal. \\nThey were able to get a cheque from the Sandycove Acres ladies that \\nlunch group and send it to the Barrie women’s shelter. Where there is a \\nwill, there is a way, Mr. Speaker.',\n",
       " 'Here, too, this government has a will to work and \\nhelp all Ontarians, as I know all members of the House have a will to do\\n that, because we do come here every so often to extend the emergency \\norders, and we do come back here to have question period and to have \\nthat democratic debate—so, so important. It makes me think of all those \\nother efforts we have throughout our ridings with people who constantly \\nwork and put those efforts in.',\n",
       " 'But I just wanted to mention some of those things \\nand just remind people why we’re here, and really kind of reach—this is \\nreally formidable for all of us in our ridings. No one could predict \\nthis was going to happen. All of us owe it to really step up and do what\\n we can to help our communities, like I was saying earlier, whether it’s\\n delivering groceries or I know many of our members have been out there \\ndelivering personal protective equipment to local residents. I know that\\n care kits have also been delivered, a lot of that, and just those \\nfeel-good efforts so that we can really get through this with kindness \\nand positivity and not negativity.',\n",
       " 'Ms. Andrea Khanjin:\\n Thank you to the member opposite, but they’re just examples to show you\\n that while people are working and doing all these efforts in all of our\\n communities, we also owe it to them to be here and to be working on \\nthose efforts.',\n",
       " 'Some of the bills that I had mentioned in the \\nmotion that we will be debating have first-hand impacts on local \\nmembers. I know we had another member, from Etobicoke–Lakeshore, come to\\n Innisfil, to the Harry Eisses farm, where biosecurity is really \\nimportant to them. So passing the biosecurity is so important.',\n",
       " 'We saw first-hand what Harry Eisses does, where, \\nbefore you walk in to see where the egg production is made and all of \\nthat is done, you’ve got to put on layers: You’ve got to cover your \\nshoes; you’ve got to cover your clothes; you’ve got to wear a hairnet, \\ngloves, everything. Think about what’s happening now. Everyone is \\nwearing gloves and covering their face and whatnot. But that’s their \\nday-to-day. That’s how they protect their chickens to make sure that \\nthere is no infection that happens there.',\n",
       " 'Certainly, we were able to walk through and see \\nhow amazing his operation was, and, more importantly, how important this\\n bill is going to be to him, because for him, that’s his livelihood. If \\nthere is some sort of infection or some sort of outbreak at his chicken \\nfarm, that’s his livelihood. But also, just from a caring perspective, \\nthose are animals that you don’t want to see hurt. You don’t want to see\\n them ill, just like you don’t want to see a human ill. Certainly, \\nthat’s something that he cares about. You have a lot of cattle \\nfarmers—same thing. They don’t want to see their cattle ill because \\nsomeone has marched onto their property, trespassing illegally, not \\nallowed, and suddenly you have an outbreak there.',\n",
       " 'I think, now more than ever, this is so relevant \\nand so important because we’ve seen what has happened with the outbreaks\\n in our community with COVID-19, but you imagine what the other side of \\nthings are, what happens in our agri-food sector, that you don’t want \\nthat happening. That is our food supply.',\n",
       " 'I know right now—he normally has this part of his \\nfarm where you can go in. He calls it the vending machine for eggs, but \\nreally it’s just that you take the eggs you want to buy and you drop off\\n the money. It’s the honour system. There’s a little till there to make \\nchange if you need change, and you pick up your eggs. But right now, \\nduring this pandemic, that area is closed. Again, he wants to protect \\nhis livelihood but also the chickens so that there’s no outbreak or \\nanything amongst his workers or amongst the chickens there. There are \\nactually pylons when you drive by; there are lots of pylons.',\n",
       " 'I’ve had many residents ask me when they are going\\n to open, because they want their fresh eggs. Unfortunately, I can’t \\nreally give them much of a reply because we have to take safety and \\nhealth—utmost importance. Certainly, that takes precedence, but it shows\\n you why our supply chain and the agri-food bill that we will be \\ndebating this summer are so important.',\n",
       " 'When I talked about the Minister of Agriculture—he\\n actually came to Innisfil, and we did a round table with farmers about \\nthe bill. You had grain farmers and you had livestock farmers etc., and \\nthey said that this was needed years ago. They’re finally excited that a\\n government is actually moving through with it. So that’s very good to \\nhear.',\n",
       " 'I know that the member for Eglinton–Lawrence—of \\ncourse, transit is very important to a lot of members. Another thing \\nwe’ll be talking about this summer is really getting people moving. We \\nowe it to Ontarians to have a state-of-the-art transit system. Frankly, \\nwhen we all travel—when we were allowed to travel before COVID-19—if you\\n compare Ontario to other areas, again, you talk about movement of \\ngoods, but you also talk about the service sector and movement of \\npeople. That has to be seamless. That’s going to have a huge impact on \\nour economy. If we can get that right, that has a direct impact on our \\neconomy, and we need that more than ever coming out of COVID-19 because \\nof all the things that are linked to transit projects. That’s a lot of \\njobs, job creation—the entire supply chain.',\n",
       " 'Near my riding I have Decast. It’s just outside \\nthe riding. They actually make all the molding for the subways. They’re \\nready. They said, “It’s great. You guys, when you’re getting this \\nbetter, faster transit stuff through”—they’ll want to come to the helm \\nto help. It’s local pride for a lot of people, but that’s jobs.',\n",
       " 'They do have a few jobs open now. They’re still \\ngoing and they’re still working—working safely. Certainly, if there’s \\nanyone watching at home who is looking for job opportunities, there are \\nlots out there. I’ve seen a lot of “help wanted” signs. Those economic \\nopportunities exist out there.',\n",
       " 'We, as a government, have the opportunity to make \\neven more economic opportunities coming out of this pandemic, and that \\nis through a lot of this legislation that we’re going to be debating \\nhere over the summer. I want to thank everyone for their time. I look \\nforward to seeing you in the summer and having more progress.']"
      ]
     },
     "execution_count": 137,
     "metadata": {},
     "output_type": "execute_result"
    }
   ],
   "source": [
    "text_by_speaker['Ms. Andrea Khanjin']"
   ]
  },
  {
   "cell_type": "code",
   "execution_count": 108,
   "metadata": {},
   "outputs": [
    {
     "data": {
      "text/plain": [
       "True"
      ]
     },
     "execution_count": 108,
     "metadata": {},
     "output_type": "execute_result"
    }
   ],
   "source": [
    "d.get('c',None) == None "
   ]
  },
  {
   "cell_type": "code",
   "execution_count": 23,
   "metadata": {},
   "outputs": [],
   "source": [
    "s = 'Ms. Rima Berns-McGown: Long-term care is not the only humanitarian '"
   ]
  },
  {
   "cell_type": "code",
   "execution_count": 25,
   "metadata": {},
   "outputs": [],
   "source": [
    "a,b = s.split(':')"
   ]
  },
  {
   "cell_type": "code",
   "execution_count": 26,
   "metadata": {},
   "outputs": [
    {
     "data": {
      "text/plain": [
       "'Ms. Rima Berns-McGown'"
      ]
     },
     "execution_count": 26,
     "metadata": {},
     "output_type": "execute_result"
    }
   ],
   "source": [
    "a"
   ]
  },
  {
   "cell_type": "markdown",
   "metadata": {},
   "source": [
    "what I want to do:  extract all p text that comes after speakerstart"
   ]
  },
  {
   "cell_type": "code",
   "execution_count": 8,
   "metadata": {},
   "outputs": [],
   "source": [
    "children = soup.children"
   ]
  },
  {
   "cell_type": "code",
   "execution_count": 9,
   "metadata": {},
   "outputs": [
    {
     "data": {
      "text/plain": [
       "list_iterator"
      ]
     },
     "execution_count": 9,
     "metadata": {},
     "output_type": "execute_result"
    }
   ],
   "source": [
    "type(children)"
   ]
  },
  {
   "cell_type": "code",
   "execution_count": 10,
   "metadata": {},
   "outputs": [],
   "source": [
    "c_gen = soup.childGenerator()"
   ]
  },
  {
   "cell_type": "code",
   "execution_count": 11,
   "metadata": {},
   "outputs": [
    {
     "data": {
      "text/plain": [
       "list_iterator"
      ]
     },
     "execution_count": 11,
     "metadata": {},
     "output_type": "execute_result"
    }
   ],
   "source": [
    "type(c_gen)"
   ]
  },
  {
   "cell_type": "code",
   "execution_count": 12,
   "metadata": {},
   "outputs": [],
   "source": [
    "s = speaker_starts.pop()"
   ]
  },
  {
   "cell_type": "code",
   "execution_count": 13,
   "metadata": {},
   "outputs": [
    {
     "data": {
      "text/plain": [
       "bs4.element.Tag"
      ]
     },
     "execution_count": 13,
     "metadata": {},
     "output_type": "execute_result"
    }
   ],
   "source": [
    "type(s)"
   ]
  },
  {
   "cell_type": "code",
   "execution_count": 14,
   "metadata": {},
   "outputs": [
    {
     "name": "stdout",
     "output_type": "stream",
     "text": [
      "<class 'bs4.element.Tag'>\n",
      "<class 'bs4.element.Tag'>\n",
      "<class 'bs4.element.NavigableString'>\n"
     ]
    }
   ],
   "source": [
    "for c in s.children:\n",
    "    print(type(c))"
   ]
  },
  {
   "cell_type": "code",
   "execution_count": 15,
   "metadata": {},
   "outputs": [],
   "source": [
    "s = soup.find(\"strong\")"
   ]
  },
  {
   "cell_type": "code",
   "execution_count": 16,
   "metadata": {},
   "outputs": [
    {
     "data": {
      "text/plain": [
       "'The Speaker (Hon. Ted Arnott):'"
      ]
     },
     "execution_count": 16,
     "metadata": {},
     "output_type": "execute_result"
    }
   ],
   "source": [
    "s.get_text()"
   ]
  },
  {
   "cell_type": "code",
   "execution_count": 19,
   "metadata": {},
   "outputs": [],
   "source": [
    "tag = soup.next_element"
   ]
  },
  {
   "cell_type": "code",
   "execution_count": 21,
   "metadata": {},
   "outputs": [],
   "source": [
    "tag = soup.find(class_='speakerStart')"
   ]
  },
  {
   "cell_type": "code",
   "execution_count": 23,
   "metadata": {},
   "outputs": [
    {
     "data": {
      "text/plain": [
       "'The Speaker (Hon. Ted Arnott): Good morning. We’re going to begin this morning with a moment of silence for inner thought and personal reflection.'"
      ]
     },
     "execution_count": 23,
     "metadata": {},
     "output_type": "execute_result"
    }
   ],
   "source": [
    "tag.get_text()"
   ]
  },
  {
   "cell_type": "code",
   "execution_count": 25,
   "metadata": {},
   "outputs": [
    {
     "data": {
      "text/plain": [
       "1143"
      ]
     },
     "execution_count": 25,
     "metadata": {},
     "output_type": "execute_result"
    }
   ],
   "source": [
    "len(tag.fetchNextSiblings())"
   ]
  },
  {
   "cell_type": "code",
   "execution_count": 139,
   "metadata": {},
   "outputs": [
    {
     "data": {
      "text/plain": [
       "['',\n",
       " 'The Speaker (Hon. Ted Arnott)',\n",
       " 'Ms. Andrea Khanjin',\n",
       " 'The Deputy Clerk (Mr. Trevor Day)',\n",
       " 'Mr. Jamie West',\n",
       " 'Ms. Peggy Sattler',\n",
       " 'Ms. Catherine Fife',\n",
       " 'Ms. Rima Berns-McGown',\n",
       " 'Mr. Daryl Kramp',\n",
       " 'Ms. Teresa J. Armstrong',\n",
       " 'Mr. Logan Kanapathi',\n",
       " 'Mr. Guy Bourgouin',\n",
       " 'Mr. John Fraser',\n",
       " 'Mr. Amarjot Sandhu',\n",
       " 'Ms. Suze Morrison',\n",
       " 'Mr. Vijay Thanigasalam',\n",
       " 'Ms. Effie J. Triantafilopoulos',\n",
       " 'Hon. Paul Calandra',\n",
       " 'Ms. Andrea Horwath',\n",
       " 'Hon. Merrilee Fullerton',\n",
       " 'Mr. Parm Gill',\n",
       " 'Hon. Stephen Lecce',\n",
       " 'Ms. Sara Singh',\n",
       " 'Ms. Marit Stiles',\n",
       " 'Hon. Christine Elliott',\n",
       " 'Mr. Jim Wilson',\n",
       " 'Hon. Laurie Scott',\n",
       " 'Mr. Michael Mantha',\n",
       " 'Ms. Judith Monteith-Farrell',\n",
       " 'Mme Lucille Collard',\n",
       " 'Mrs. Jennifer (Jennie) Stevens',\n",
       " 'The Clerk of the Assembly (Mr. Todd Decker)',\n",
       " 'Hon. Lisa M. Thompson',\n",
       " 'Hon. Steve Clark',\n",
       " 'Interjections',\n",
       " 'Mr. Mike Schreiner',\n",
       " 'Mr. Rick Nicholls',\n",
       " 'Mr. Percy Hatfield',\n",
       " 'Mrs. Robin Martin',\n",
       " 'Ms. Donna Skelly',\n",
       " 'The Deputy Speaker (Mr. Rick Nicholls)',\n",
       " 'Mr. Billy Pang',\n",
       " 'Mr. Sheref Sabawy',\n",
       " 'Ms. Christine Hogarth',\n",
       " 'Mrs. Nina Tangri']"
      ]
     },
     "execution_count": 139,
     "metadata": {},
     "output_type": "execute_result"
    }
   ],
   "source": [
    "list(text_by_speaker.keys())"
   ]
  },
  {
   "cell_type": "code",
   "execution_count": 140,
   "metadata": {},
   "outputs": [
    {
     "data": {
      "text/plain": [
       "['Interjections: Shame.']"
      ]
     },
     "execution_count": 140,
     "metadata": {},
     "output_type": "execute_result"
    }
   ],
   "source": [
    "text_by_speaker['Interjections']"
   ]
  },
  {
   "cell_type": "code",
   "execution_count": 148,
   "metadata": {},
   "outputs": [],
   "source": [
    "def scrape_transcript(url):\n",
    "    page = requests.get(url)\n",
    "    soup = BeautifulSoup(page.text, 'html.parser')\n",
    "    p = soup.find('p')\n",
    "    text_by_speaker = {}\n",
    "\n",
    "    name = ''\n",
    "    for p in paragraphs:\n",
    "        text = p.getText()\n",
    "        attributes = p.attrs\n",
    "        #print(text)\n",
    "        if attributes.get('class'):\n",
    "            #print(attributes)\n",
    "            if 'speakerStart' in attributes.get('class'):\n",
    "                #print('speaker Start')\n",
    "                name = text.split(':')[0]\n",
    "\n",
    "                para = ''.join(text.split(':')[1:])\n",
    "                #print (name)\n",
    "                #print(para)\n",
    "                #print(\"\\n\")\n",
    "            else:\n",
    "                para = text\n",
    "        else:\n",
    "            para = text\n",
    "\n",
    "        if text_by_speaker.get(name, None) == None:\n",
    "            text_by_speaker[name] = [para]\n",
    "\n",
    "        else:\n",
    "            text_by_speaker.get(name).append([para])\n",
    "    \n",
    "    return text_by_speaker"
   ]
  },
  {
   "cell_type": "code",
   "execution_count": 143,
   "metadata": {},
   "outputs": [],
   "source": [
    "url = 'https://www.ola.org/en/legislative-business/house-documents/parliament-42/session-1/2020-05-19/hansard'"
   ]
  },
  {
   "cell_type": "code",
   "execution_count": 149,
   "metadata": {},
   "outputs": [],
   "source": [
    "texts = scrape_transcript(url)"
   ]
  },
  {
   "cell_type": "code",
   "execution_count": 152,
   "metadata": {},
   "outputs": [
    {
     "data": {
      "text/plain": [
       "['',\n",
       " 'The Speaker (Hon. Ted Arnott)',\n",
       " 'Ms. Andrea Khanjin',\n",
       " 'The Deputy Clerk (Mr. Trevor Day)',\n",
       " 'Mr. Jamie West',\n",
       " 'Ms. Peggy Sattler',\n",
       " 'Ms. Catherine Fife',\n",
       " 'Ms. Rima Berns-McGown',\n",
       " 'Mr. Daryl Kramp',\n",
       " 'Ms. Teresa J. Armstrong',\n",
       " 'Mr. Logan Kanapathi',\n",
       " 'Mr. Guy Bourgouin',\n",
       " 'Mr. John Fraser',\n",
       " 'Mr. Amarjot Sandhu',\n",
       " 'Ms. Suze Morrison',\n",
       " 'Mr. Vijay Thanigasalam',\n",
       " 'Ms. Effie J. Triantafilopoulos',\n",
       " 'Hon. Paul Calandra',\n",
       " 'Ms. Andrea Horwath',\n",
       " 'Hon. Merrilee Fullerton',\n",
       " 'Mr. Parm Gill',\n",
       " 'Hon. Stephen Lecce',\n",
       " 'Ms. Sara Singh',\n",
       " 'Ms. Marit Stiles',\n",
       " 'Hon. Christine Elliott',\n",
       " 'Mr. Jim Wilson',\n",
       " 'Hon. Laurie Scott',\n",
       " 'Mr. Michael Mantha',\n",
       " 'Ms. Judith Monteith-Farrell',\n",
       " 'Mme Lucille Collard',\n",
       " 'Mrs. Jennifer (Jennie) Stevens',\n",
       " 'The Clerk of the Assembly (Mr. Todd Decker)',\n",
       " 'Hon. Lisa M. Thompson',\n",
       " 'Hon. Steve Clark',\n",
       " 'Interjections',\n",
       " 'Mr. Mike Schreiner',\n",
       " 'Mr. Rick Nicholls',\n",
       " 'Mr. Percy Hatfield',\n",
       " 'Mrs. Robin Martin',\n",
       " 'Ms. Donna Skelly',\n",
       " 'The Deputy Speaker (Mr. Rick Nicholls)',\n",
       " 'Mr. Billy Pang',\n",
       " 'Mr. Sheref Sabawy',\n",
       " 'Ms. Christine Hogarth',\n",
       " 'Mrs. Nina Tangri']"
      ]
     },
     "execution_count": 152,
     "metadata": {},
     "output_type": "execute_result"
    }
   ],
   "source": [
    "list(texts.keys())"
   ]
  },
  {
   "cell_type": "code",
   "execution_count": 153,
   "metadata": {},
   "outputs": [
    {
     "data": {
      "text/plain": [
       "['\\n I rise today to participate, in the debate on this motion that was \\nbrought forward by the government, as the acting House leader for the \\nofficial opposition. I want to say at the outset how striking is the \\ndifference in tone in this Legislature yesterday and today when you \\nreflect back on the earlier sessions we have come together for during \\nthis state of emergency.',\n",
       " ['Yesterday, we saw the government bring forward \\nthree bills with no notice whatsoever to the official opposition. Very \\nlate yesterday, they scheduled this motion that we are debating today \\nwith, again, very, very little notice to the official opposition. The \\nother days that we had met in this place were determined through a \\nprocess of negotiation and collaboration and consensus. That, Speaker, \\nis how the people of this province of Ontario expect us to function in a\\n democracy in the middle of a pandemic. It’s more important than ever \\nthat we have that kind of cross-party negotiation, discussion, \\ncollaboration and agreement—agreement on what we should be talking \\nabout, what the priorities are of the people who we represent, and what \\nthe concerns are that all of us bring on behalf of our constituents.'],\n",
       " ['It is disappointing, as I said yesterday, that the\\n government has chosen to depart from the way that we have functioned \\npreviously. The state of emergency is still very much in effect, and yet\\n we have this new, kind of arbitrary approach by the government as to \\nhow we are going to do business in this Legislature.'],\n",
       " ['0950'],\n",
       " ['I heard the member from Barrie–Innisfil talk about\\n the democratic process. Speaker, it is so disrespectful to democracy to\\n act in the way that we see this government acting, to act in the way \\nthat we saw them act yesterday. Bringing bills forward with no advance \\nnotice to the official opposition limits our ability as MPPs to \\nparticipate meaningfully in the debate and bring forward the concerns \\nthat our constituents want us to talk about. But most of all, in the \\nmiddle of a pandemic, the concerns and priorities of our constituents \\nhave shifted, Speaker. People are looking at the most pressing issues \\nthat are before them, and the bills that we talked about yesterday \\nreally had nothing or very, very little to do with the issues that we \\nare facing in this COVID-19 emergency.'],\n",
       " ['One of the most disappointing things that we saw \\nhere yesterday was the government voting against a unanimous consent \\nmotion to allow the critic for the official opposition to stand down the\\n lead on Bill 184, a bill that addresses social housing in the province \\nand purports to provide further protections for tenants.'],\n",
       " ['You know, the government operates with cabinet \\nministers who are supposed to have knowledge of their files, and that is\\n how the official opposition is structured as well. We have critics who \\nhave a lot of knowledge and expertise in their files and who get \\nbriefings from the ministry about legislation that is going to be \\nbrought forward. It is the critic’s responsibility to do the in-depth \\nanalysis of the bills that we are going to be debating in this place. To\\n refuse the opportunity for our critic to participate in the debate was \\nreally unconscionable. It was disrespectable to the democratic process. \\nIt was disrespectful to the way that we are supposed to treat each other\\n in this place, listen to each other in this place and, through our \\nvoices, listen to the views of the people we represent.'],\n",
       " ['I have to stay, Speaker, I don’t know if you had \\nan opportunity to read some of—there were some recent articles in the \\nNew York Times about the countries that have been most successful in \\ndealing with COVID-19. Interestingly, they are led by women. In \\nparticular, Jacinda Ardern in New Zealand is being held up as a model \\nleader, but others—Angela Merkel in Germany; the Prime Minister of \\nFinland—these are countries that operate on a system of proportional \\nrepresentation. In my critic responsibility within the official \\nopposition, that is another one of my critic roles: democratic reform. \\nYou have to reflect on the way that an embedded system of proportional \\nrepresentation forces parties to work together. It forces solutions to \\nbe worked out that take into account the views of many diverse opinions \\nand people who have different political perspectives. You reach a better\\n decision once you engage in processes like that.'],\n",
       " ['The motion that we have before us today is the \\ncounter. It’s the exact opposite of the approaches that have been so \\neffective in other countries that have political systems that allow the \\nback and forth and that allow the participation of all members of the \\nLegislature in determining how the government is going to address the \\nneeds of the people in Ontario.'],\n",
       " ['This motion proposes that the Legislature return \\nbeyond the already agreed-upon sitting days—as I pointed out, those \\ndates were set through a process of consensus and negotiation at the \\nHouse leaders’ meeting. But this motion proposes additional sitting \\ndays: four additional days in June and nine additional days in July. For\\n people in Ontario who hear that, they may think it’s really important \\nthat the Legislature continue to sit, that the Legislature debate issues\\n that are critical to our ability to move through this pandemic, to \\nreopen the economy safely, to ensure that workers are protected, to \\naddress the horrifying situation in our long-term-care facilities. These\\n are all high priorities for our constituents. People seeing this \\nmotion, hearing that there are 13 more days that the government has \\nproposed that the Legislature convene, might think this is a good idea \\nbecause we’re going to be able to really look at issues related to \\nCOVID-19.'],\n",
       " ['Unfortunately, when you actually look at the \\nmotion, after it sets out the 13 additional sitting days, it dictates \\nexactly what is going to be addressed in those additional sitting days. \\nNothing that the government wants to address, that’s set out in this \\nmotion, relates to COVID-19. That is a concern. That is a real concern. \\nWe see a government that is blindly focused on continuing to push \\nthrough its agenda, and it’s using its power as a majority government to\\n bring in a motion that is going to do exactly that: to push through \\nfour pieces of legislation that were developed long prior to the \\npandemic and really are not the top-of-mind concerns for people that we \\nrepresent.'],\n",
       " ['Not only that; this motion proposes to use a \\nvirtual committee process to deal with these bills, to get public input \\non the content of these bills. My friends from the independents and the \\nLiberals and the Greens are not here today, but certainly they were with\\n me—'],\n",
       " [' Apologies.'],\n",
       " [' Okay—'],\n",
       " ['\\n My friends from the Liberals and the Greens and the independents will \\nknow that, during the House leader meetings that we held when we were \\ndiscussing the sittings of the Legislature and the issues that were \\ngoing to be dealt with—they will have heard the government House leader \\nsay that, given that we have never in this Legislature held virtual \\ncommittee meetings before, we would do sort of a trial run, that we \\nwould bring forward a single, relatively non-contentious bill—for \\nexample, a bill like the Legislative Assembly Act, a bill that was dealt\\n with rather quickly in this Legislature because there was widespread \\nagreement that that the measures set out in that bill would improve the \\nfunctioning of the Legislative Assembly.'],\n",
       " ['So the government House leader had said to us, \\n“Why don’t we use a bill like the Legislative Assembly Act and do a \\ntrial run of this virtual committee process, where we’re going to be \\nenabling presenters to come and speak before the committee, we’re going \\nto be enabling members of the committee to participate virtually?” \\nWhenever you implement a new process, there are always going to be \\nkinks. There are always going to be unanticipated challenges that need \\nto be worked out.'],\n",
       " ['1000'],\n",
       " ['Speaker, I cannot understand why this government \\nhas changed its mind about proceeding in that way and why it has decided\\n that it is going to push through four bills which are—honestly, \\nSpeaker, they are highly contentious bills. They are bills that are very\\n polarizing, and this government has decided that they’re going to \\nimplement a virtual committee process for four bills at the same time. \\nIt’s not even that they’re doing a single contentious bill and going to \\nsee how that works out virtually; they’re doing four contentious bills \\nat exactly the same time in an untested, untried, brand new virtual \\ncommittee hearing process.'],\n",
       " ['That is a real concern, Speaker: whether that \\nprocess is really going to allow people in this province to engage in \\ndebate on bills that aren’t on the top of their priority list, because \\nthey’re preoccupied, as they should be, with COVID-19. But still, we do \\nwant to ensure that when these bills come to committee, there are full \\nand meaningful opportunities for the public to participate, so that is a\\n concern.'],\n",
       " ['The other significant concern with this motion is \\nthe days that it proposes that the Legislative Assembly meet. The four \\ndays in June are Tuesdays and Wednesdays, and certainly that is the \\nschedule that we have operated under last week, this week and next week.\\n I think that that was an agreement that was reached through consensus \\nat the House leaders’ meeting, and generally that has worked well for us\\n for these three weeks.'],\n",
       " ['But at the same time that the government wants to \\npush through its legislative agenda, the legislative agenda that did not\\n serve the people of this province well—when you think about the cuts to\\n public health that compromised our ability to respond effectively to \\nthis COVID-19 emergency, when you think about the decision to end \\nproactive inspections of long-term-care facilities that made our \\nlong-term-care homes so vulnerable to the devastation of COVID-19, and \\nthe lack of support for PSWs—at the same time that this government is \\njust laser-focused on pushing through its legislative agenda, it is also\\n closing its ears to any possibility that private members may have some \\ngood ideas about how to address the COVID-19 emergency.'],\n",
       " ['I know in my community the only thing I’m hearing \\nfrom people in London West is related to COVID-19. Private members’ \\npublic business, which is held on Thursdays, will not be possible under \\nthe terms of this motion because this motion proposes, as I said, that \\nwe sit for Tuesdays and Wednesdays in June, and then Mondays, Tuesdays \\nand Wednesdays in July. That completely eliminates any opportunity for \\ndiscussion of private members’ public business.'],\n",
       " ['It was interesting. I heard the member from \\nBarrie–Innisfil talk about the grand achievement that was secured here \\nyesterday in the Legislature with the passing of Bill 141, which was a \\nprivate member’s bill brought forward by the member for \\nEglinton–Lawrence, but more than that, it was the result of a \\ncollaboration between several MPPs. My colleague the MPP for Nickel Belt\\n and the member for Ottawa South had also brought forward PMBs that were\\n similar; they dealt with the same issue of the defibrillator registry.'],\n",
       " ['As I said, without notice, we had that bill come \\nforward here yesterday morning in the Legislature, and we saw its \\npassage with support from all members of the House, but that shows you \\nthe power of private members’ public business. That shows you the \\nimportance of enabling members to bring forward private members’ bills \\nor private members’ motions whenever we gather together to participate \\nin this democratic project.'],\n",
       " ['We have seen in this place many grand achievements\\n as a result of private members’ initiatives. We saw presumptive WSIB \\ncoverage for PTSD and first responders. Again, that was a private \\nmember’s bill. That began with a private member’s bill by my former \\ncolleague the member for Parkdale High Park, and it was taken up by the \\ngovernment. My colleague the member for Nickel Belt had a private \\nmember’s bill on banning tanning beds, and that was also taken up by the\\n government and moved forward.'],\n",
       " ['There are many ways that MPPs can participate in \\nthe legislative process and bring forward good ideas that everybody \\nrecognizes are important and that should have an opportunity to be \\nconsidered. Yet this motion that is before us provides no opportunity to\\n allow that consideration to happen because it excludes Thursdays from \\nthe schedule that the Legislature would meet. That, Speaker, is a huge \\nloss for democracy and, honestly, for the government.'],\n",
       " ['The government does not have a monopoly on ideas \\nas to how to respond to COVID-19. Members on our side of the House, \\nmembers of the official opposition, independent members, and even their \\nbackbench members for goodness’ sake, might have some valuable input \\nthat should be considered and should be acted on by the government. But,\\n as I said, there will be absolutely no opportunity to consider those \\nthings.'],\n",
       " ['I know in my community, one of the things that I’m\\n hearing about and am deeply, deeply concerned about that I would be \\ninterested in as a private member’s motion or a private member’s bill \\nhas to do with the increase of sexual violence, gender-based violence, \\nas a result of this pandemic. We are hearing women’s shelters; their \\ncalls are through the roof. The calls are absolutely through the roof. \\nEven the domestic violence and sexual assault treatment centre at the \\nhospital has reported a significant spike in people who are coming to \\nthe hospital to report a sexual assault. This is a grave, grave concern.\\n There is a lot of research to substantiate the high, high risk to women\\n as a result of this pandemic. We should be looking at how we are going \\nto respond collectively as a province going forward to this abuse that \\nso many women have been experiencing throughout this pandemic.'],\n",
       " ['1010'],\n",
       " ['Another issue that is of huge concern to my \\ncommunity, and I’m sure to all members in this place, is the risks that \\nchildren have been experiencing as their families are struggling with \\nthe financial hardship of COVID-19. Schools are closed. Child care \\ncentres are closed. Those are places where, if a child was experiencing \\nabuse at home, it could be first identified and then reported to a CAS.'],\n",
       " ['I am deathly afraid for all of those children who \\nare in maybe a one-bedroom apartment on a high floor, with no access to \\ngreen space. Their parents are struggling with the financial \\nconsequences of COVID-19. They are struggling to try to implement a \\nlearn-at-home agenda without technology. Maybe they work in a \\nconvenience store without access to PPE. They’re coming home. They’re \\nworried about carrying infection to their family members. They’re \\nworried about whether they are letting down their responsibilities as \\nparents to implement learn-at-home. They’re worried about their children\\n cloistered in this small apartment without being able to play with \\ntheir friends. I think, Speaker, that there is a very, very real risk \\nthat we are going to see so many more children who will need supportive \\nservices after this pandemic ends.'],\n",
       " ['Again, when I earlier talked about the government \\nbeing determined to push through an agenda that has not served the \\npeople of Ontario well, we only have to look at that issue of protection\\n for vulnerable children. We saw this government—one of the first things\\n it decided to do was to eliminate the Provincial Advocate for Children \\nand Youth. And, my goodness, Speaker, if ever there was a time when \\nchildren and youth will need an advocate in this province, it’s in the \\nwake of this global pandemic.'],\n",
       " [' Yes.'],\n",
       " ['Most recently, in the budget that was brought down\\n just prior to the pandemic, we saw significant cuts to children’s \\nmental health services. We saw this government re-organize children’s \\nmental health, from the Ministry of Children and Youth Services over to \\nthe Ministry of Health. But in the Ministry of Children and Youth \\nServices, there were people there who understood children’s mental \\nhealth. We now have a monster Ministry of Health that is obviously \\npreoccupied with other issues. It’s very, very, very concerning, about \\nwhere children are in this government’s agenda. Certainly, we don’t see \\nchildren in those bills that the government is proposing to deal with \\nover the summer.'],\n",
       " ['I wanted to start to address more specifics of the\\n motion. The motion talks about four bills that will go to committee in \\nJune. There’s Bill 156, and that is the bill that deals with biosecurity\\n and the protection of our food supply; Bill 171, the bill that deals \\nwith building Toronto’s transit; and Bill 175, the bill that deals with \\nthe reorganization of home care. Speaker, timing is everything. Who \\nreorganizes home care in the midst of a global—'],\n",
       " ['\\n Thank you, Speaker. I rise on a point of order. Our lead questions are \\nto the Premier, and the government has not confirmed whether the Premier\\n will be attending today or not. I would ask if the government can let \\nus know if he will be late, and if he will be, we would like a UC to \\nstand down the lead—'],\n",
       " [' I seek a UC to stand down our lead until the Premier arrives.'],\n",
       " ['\\n I started my comments this morning with an observation about the change\\n of tone that we have experienced in this Legislature over the last \\ncouple of days. We came here in the midst of a pandemic to talk about \\nbeing one team—“There’s no blue team, orange team, red team or green \\nteam; we are one team”—and yet we have seen over the last two days a \\ncomplete lack of collaboration, a complete lack of respect for the role \\nof the official opposition.'],\n",
       " ['Speaker, I have to address what we witnessed in \\nthis Legislature this morning in terms of a lack of respect for the \\nstaff who work in this place, a lack of respect for all of the members \\nwho have come in the midst of the pandemic to deal with very, very \\nimportant public policy issues. We had a vote where the government \\nmembers came in in full. They completely ignored any rules about \\nphysical distancing that we had agreed to. We had agreed to those rules \\nwhen we first came back here in March, when we came back here in April, \\nwhen we came back here earlier in May. This government decided to \\ncompletely and flagrantly ignore those protocols that we had all agreed \\nwere important not just for the safety of the people who work in this \\nplace and for us as members, but to model the expectations and the \\nbehaviours that we are hoping Ontarians continue to observe. Public \\nhealth is at risk. If we do not continue to observe physical distancing,\\n to maintain two metres’ distance from each other, we are risking the \\nhealth of others and our own health. When we all go back to our home \\ncommunities, we go back to our families and we go back to our \\nconstituents, we don’t want to be risking their health because of the \\ndisplay that we saw here today. I felt that that was more important \\ncontext to be provided in terms of the debate on the motion that we are \\nlooking at today.'],\n",
       " ['When I concluded my remarks in the morning, I was \\njust reviewing the bills that are going to be addressed in this motion. \\nBill 156 is scheduled for public hearings. That’s the bill on \\nbiosecurity, otherwise known as the ag gag laws. Major, major concerns \\nraised about freedom of speech, freedom of expression—court challenges \\nin other jurisdictions that have been upheld, that these kinds of laws \\ninfringe on people’s constitutional freedoms. This is one of the bills \\nthat this government thinks should be dealt with in a couple of weeks—on\\n June 8 and 9: two days of public hearings.'],\n",
       " ['They are also looking at bringing in Bill 171, a \\nbill that deals with building transit in the city of Toronto. My \\ngoodness, Speaker, there is a need for transit in the city of Toronto, \\nbut transit agencies are dealing with a complete collapse of fare \\nrevenues. They are dealing with a plummeting of ridership because of the\\n pandemic and because of concerns about what’s going to happen when they\\n ride mass transit systems.'],\n",
       " ['When people want to talk about transit, those are \\nthe kinds of things they want to talk about. How are we going to even \\nensure that we are able to continue operating the transit systems that \\nwe already have in place? I know that in my community, in London, the \\nLondon Transit Commission announced that their budget won’t take them \\npast June unless there’s some kind of major budgetary investment from \\nthe city—a city that is already looking at an over $30-million budget \\nhole as a result of COVID-19 measures.'],\n",
       " ['So let’s talk about transit, but let’s talk about \\nhow we are going to keep transit operating in this province. How are we \\ngoing to help the TTC dig out of the enormous revenue hole that it has \\nfound itself in as a result of COVID-19? These are the kinds of \\nquestions that people are asking. When this bill is called before public\\n hearings, if this motion passes—June 8, 9 and 10—I expect that we’ll be\\n hearing about that. I expect that when people come to talk about \\nbuilding transit faster in Toronto, they’re going to want to talk about \\nhow we are going to maintain the transit that we already have.'],\n",
       " ['The other bill that is outlined in this motion \\ndeals with home care: Bill 175. Again, that is proposed to come forward \\nfor three days of public hearings: June 15, 16 and 17. Every member on \\nthe official opposition side who spoke to that bill emphasized the fact \\nthat the glaring omission in the bill is any reference to what to do \\nabout PSWs, personal support workers. You can’t have a home care system \\nif you don’t have a sufficient supply of personal support workers.'],\n",
       " ['From what we have heard from the beginning of this\\n crisis, from the PSWs who have contacted all of our offices to tell us \\nabout their working conditions, the lack of support, the lack of PPE, \\nthe insecurity of their jobs, cobbling together part-time jobs at a \\nnumber of different agencies or care homes because there is no full-time\\n employment, we know there are no benefits and the wages are deplorable.\\n And this government had decided that it was going to limit all public \\nsector workers to 1%. So you’re talking about PSWs who already earned \\nbarely above the minimum wage, and this government wants to reward them \\nwith a 1% increase, Speaker.'],\n",
       " ['1310'],\n",
       " ['If we want to have a home care system that \\nactually helps support people’s health and well-being, we need to ensure\\n that the workers are there to provide that assistance. We need to make \\nthe career of a PSW rewarding. We need to provide the training and \\nsupports that they need so that they can provide the care that they want\\n to provide. I recognize that this is a very difficult time for this \\ngovernment, and maybe that’s part of what we’ve seen over the last two \\ndays. They are on the hot seat, Speaker, for one of the most damning, \\nscathing reports, I think, ever issued in the province of Ontario. It \\ntalked about horrifying, horrifying conditions in the long-term-care \\nhomes that were right under the noses of this government for the last \\ntwo years—right under their noses—and yet it took the military being \\ncalled in before these horrific abuses were uncovered.'],\n",
       " ['I know it’s not easy to be accountable for the \\nissues that were described in that report, but this is a government that\\n has been in office for more than two years and, Speaker, they have to \\ntake some accountability. They have to take accountability for the fact \\nthat only nine inspections were conducted of the 262 long-term-care \\nhomes in the province—because they thought that that was a more \\nefficient use of public dollars, to end the inspections of \\nlong-term-care homes. And look where it got us. Yet they want to talk \\nabout a bill, they want to bring forward a bill that’s going to \\ncompletely upend the delivery of home care in this province, a system \\nthat has already been completely privatized by the Liberals and that \\nrelies on PSWs. They think that that’s a good thing to do as they’re \\ndealing with this complete chaos in the long-term-care system.'],\n",
       " ['We know from reports that the Ontario Health \\nCoalition has issued, we know from the report we got from the military, \\nfrom the military’s investigation of those five long-term-care homes, \\nthat the ownership of these care systems has to be looked at, that when \\nyou have a privatized system of care for elderly or vulnerable people, \\nthen people are more likely to get hurt, people are more likely to die. \\nThat is what the Ontario Health Coalition’s research showed, Speaker, \\nwhen they looked at results, in terms of COVID-19 cases, in homes that \\nwere owned by private owners and homes that were public or municipally \\nowned. So Speaker, I don’t think this is the time to be embarking on \\nthis major overhaul of privatized home care, and yet this government \\nthinks that this is a wise thing to do, to bring forward this bill for \\nthree days of public hearings in June.'],\n",
       " ['The other bill that the government wants to \\naddress is Bill 161. That’s the legal aid bill. Again, they want to \\nbring that one forward for three days of public hearings in June. \\nSpeaker, let me tell you about some of the supports that legal aid \\nprovides for the most vulnerable people in Ontario. I think many of us \\nhave come to know Jane Meadus, for example. She’s from the legal aid \\nAdvocacy Centre for the Elderly, and she’s been a very vocal and \\noutspoken advocate for elderly people, for seniors who are living in \\nthese horrendous conditions in our long-term-care homes, and thank \\ngoodness. Thank goodness for the Advocacy Centre for the Elderly, for \\nbeing a voice for seniors who have been completely ignored and neglected\\n by this government and the Liberals before them.'],\n",
       " ['We also know that legal aid funds the ARCH \\nDisability Law Centre, another very important voice for people who are \\nthe most marginalized and disproportionately negatively impacted by \\nCOVID-19. People with disabilities are struggling with lack of access to\\n housing, lack of access to employment, food insecurity, lack of access \\nto public transit. Transit system routes are being cancelled. Many don’t\\n have vehicles, and yet they are no longer able to access public \\ntransportation.'],\n",
       " ['Legal aid also funds the Income Security Advocacy \\nCentre, another very important organization that provides policy \\nrecommendations to ensure that the most marginalized in our society are \\nsupported, that we have public policies in place that will lift people \\nout of poverty, that will support people in moving forward in employment\\n or education and enable them to live a decent life.'],\n",
       " ['Legal aid also funds the Injured Workers Community\\n Legal Clinic. In the context of COVID-19, when we have heard over and \\nover about workers who have been fearful for their health and safety on \\nthe job because of the lack of PPE, the lack of employer support \\nmodifications to businesses etc.—workers are being forced to go back to \\nwork, are being called back to work. They have no options, in many \\ncases. They are very anxious about what’s going to happen to their \\nhealth when they go into a workplace that does not have adequate safety \\nmeasures. We know that over 200 people went to the Ministry of Labour \\nand asked for an investigation, and so far, every single one of the \\ninvestigations that has been launched with the Ministry of Labour to \\nlook at unsafe workplace conditions has been declined.'],\n",
       " ['Earlier this morning, I talked about the fact that\\n the government is not including Thursdays as one of the days that the \\nLegislature will be recalled. Thursday, of course, is the day when we \\ndeal with private members’ bills. We talked about some of the important \\npolicies that have been advanced through private members’ legislation in\\n this House. My colleague the MPP for Niagara Falls has a private \\nmember’s bill on the docket right now that would guarantee presumptive \\nCOVID-19-related WSIB coverage. That is an important bill. I can’t think\\n of anything that would be more relevant in the context of the pandemic \\nthat we are dealing with than that bill, but there won’t be an \\nopportunity under this proposal to address that. There won’t be an \\nopportunity to address any other private members’ bills or motions or \\npolicy ideas that members on all sides of the House may have to help the\\n government, to work with the government to benefit the people of this \\nprovince. All of us are hearing from the people we represent about some \\nof the changes they believe need to be made, some of the challenges that\\n they’re dealing with in light of COVID-19. We will have no opportunity \\nto bring those ideas forward in private members’ public business, and \\nthat is a huge loss for the people of this province.'],\n",
       " ['1320'],\n",
       " ['I also wanted to talk a little bit about the \\ntimelines that are set out in this bill for consideration of these four \\npieces of legislation. We have seen this before—when we go through the \\nprocess of having days put aside for public input and then the \\ngovernment gives 24 hours to turn around amendments to the legislation \\nfor consideration. I have always been concerned that this does not \\nprovide due process. It does not provide the time that is required to \\nactually reflect on the input that is received and turn that input \\naround into amendments. When the timelines are so tight, when the \\ntimelines between the final day for written input and the day for \\namendments to be submitted—it doesn’t really allow for the public’s \\nvoice to be heard because it limits our opportunity to go through the \\npublic input that was received, both in presentation form or in written \\nform, and identify what the amendments are that would really make a \\ndifference.'],\n",
       " ['In this motion we have very tight timelines for \\npublic hearings, very tight timelines for the turnaround from the \\ndeadline for written submissions and the submission of amendments for \\nconsideration to the bill, and that’s a problem. That is a real problem.\\n If we are actually interested in hearing from the people of this \\nprovince, we wouldn’t create timelines like that. We would allow an \\nappropriate opportunity for consideration of the input that was heard \\nand turn that into amendments to improve and strengthen the bill.'],\n",
       " ['The other issue is that the government is \\nproposing that all of the public hearings on the four bills that will be\\n brought forward will be held in Toronto. Now, the first bill that is \\noutlined in this motion, Bill 156, which deals with biosecurity and \\nprotection of farm animals—the fact that this government expects people \\nwho may have a strong interest in this legislation, a strong interest in\\n what is needed to protect Ontario’s farms—this government is expecting \\nfarmers to come to Toronto in early June, in planting season. I don’t \\nthink that is a good way to enable the participation of the people who \\nare closest to the legislation.'],\n",
       " ['I know that originally public hearings for this \\nbill were planned in other areas of the province. London was one of the \\nlocations for those hearings, and I can tell you I’m aware of quite a \\nfew Londoners who were looking forward to the opportunity to present to \\nthat committee. In the agricultural community in Middlesex county, which\\n surrounds London, there are a lot of people who are involved in \\nagriculture who were looking forward to the opportunity to come and \\npresent to committee. I know that the government couldn’t prevent the \\ncancellation of those public hearings; I understand why those public \\nhearings had to be cancelled. But now, to reschedule them and to hold \\nthem only in Toronto is really disrespectful to the people who the \\ngovernment should want to want to hear from. The government should want \\nto hear from agricultural workers, without expecting them to travel vast\\n distances to come into Toronto to participate in these public hearings.'],\n",
       " ['Now, I do understand that there’s going to be a \\nvirtual process. We don’t have any information on what that’s going to \\nlook like, what the requirements will be for presenters to participate \\nin that virtual process because, as I pointed out earlier this morning, \\nthe virtual process has never been tried before. We are going to be \\nrunning four virtual processes almost simultaneously on four very \\nsubstantive and, frankly, contentious pieces of legislation, and that’s a\\n problem.'],\n",
       " ['With that, I would like to move an amendment to the motion.'],\n",
       " ['I move that the motion be amended by striking out \\n“Tuesdays and Wednesdays” in the second paragraph and replacing it with \\n“Tuesdays, Wednesdays and Thursdays”; and'],\n",
       " ['By striking out “Mondays, Tuesdays and Wednesdays”\\n in the third paragraph and replacing it with “Mondays, Tuesdays, \\nWednesdays and Thursdays”; and'],\n",
       " ['By deleting everything following “once all deferred votes have been taken; and”.'],\n",
       " ['I will give the amendment—'],\n",
       " ['\\n Yes. Thank you very much, Speaker. This amendment, I think, \\ndemonstrates the official opposition’s commitment to working on behalf \\nof the people of this province. We not only want to be here two days a \\nweek in June; we want to be here three days a week. We want to be here \\nTuesdays, Wednesdays and Thursdays. In July, we don’t just want to be \\nhere three days a week; we want to be here four days a week. We want to \\nwork on behalf of the people of this province.'],\n",
       " ['The amendment that I have proposed, by including \\nThursdays in both June and July, will enable the consideration of \\nprivate members’ motions and private members’ bills. As I have already \\npointed out in my remarks, these are important opportunities. Private \\nmembers’ public business is fundamental to the democratic process. It \\nreflects our rights, our privileges, our obligations as representatives \\nof the people who elected us to come to this place. We know that many \\nprivate members’ bills or private members’ motions originate from an \\nissue that we have learned about in our riding. They originate from a \\nconstituent who has brought our attention to a gap or a problem that can\\n be fixed through legislation. That, Speaker, is the logic behind the \\nfirst two parts of the amendment. We want to work. We want to work hard \\non behalf of the people we represent and work hard on behalf of the \\npeople in this province.'],\n",
       " ['The third part of the amendment calls for the \\ndeletion of the four bills that are identified in this motion. We \\nbelieve that now is the time for this Legislature to be looking at \\nlegislation that addresses COVID-19-related issues. We had a consensus. \\nWe had an agreement among all the parties that that was going to be our \\nfocus, that this is what we were going to be doing as the Legislature \\nresumed. So to see a motion that doesn’t provide any opportunity for \\nconsideration of COVID-19-related bills, that simply rams through some \\nleftover items of this government’s agenda—an agenda, frankly, that has \\nfailed the people of this province, an agenda that cut millions of \\ndollars from public health, compromised our ability to respond to this \\npandemic, an agenda that eliminated inspections in long-term-care \\nhomes—this is the kind of agenda that this government is narrowly \\nfocused on pushing through, and that’s a problem for us.'],\n",
       " ['1330'],\n",
       " ['We want to be here. We want to be talking about \\nthe priorities that we’re hearing about in our communities. We look \\nforward to working with this government on legislation that’s going to \\naddress those priorities.'],\n",
       " ['We would hope that the government would be \\ninterested in hearing from us, hearing our views on actions that could \\nbe taken to support Ontarians who are struggling with the impact of \\nCOVID-19; for example, a commercial rent subsidy. That is something that\\n we would be very interested in working with the government on. We know \\nthat they believe the program that they’ve put in place is just \\ngreat—“Let’s not rush to judgment on it. Let’s see how it’s working.” \\nWell, we know it is not working. All of us have been hearing from \\nbusinesses in our communities that they can’t stay afloat and cannot see\\n a way to survive to the end of this pandemic. They are facing huge \\nfixed costs, of rent that has to continue to be paid, of utilities that \\nhave to continue to be paid. In my riding of London West, many of them \\ndon’t have enough staff that would qualify them to apply for the federal\\n wage subsidy. They’re not getting anything. They have landlords who \\ndon’t want to participate in the commercial rent program. They are \\ndesperate. I know that we have all heard those stories of desperate \\nbusinesses. That is something we could be talking about on a Thursday in\\n private members’ public business—about bringing in some meaningful rent\\n relief for businesses in this province so that they don’t go under, so \\nthat we still have an economy to return to once we get through this \\npandemic.'],\n",
       " ['We could also be talking about the implementation \\nof some of those fixes in long-term care that need to be taken now. We \\nhave been very clear that a public inquiry does not mean putting off \\ndecisions about changes that need to be made until the inquiry is \\nreported a couple of years down the road—an independent, transparent, \\nfully public inquiry, under the Public Inquiries Act—that can identify \\nright away the changes that need to be made now, the legislative changes\\n that might need to be implemented to support it. That legislation could\\n be brought in over June and July. We could move quickly to address some\\n of the appalling abuses of our seniors in the five long-term-care homes\\n that were supported by the military. Unfortunately, I don’t think any \\nof us believe that there were only five. Unfortunately, there were only \\nfive that the military went into. It is very, very concerning to think \\nabout the conditions that our frail elderly are living in in those other\\n 257 long-term-care homes that the military didn’t go into.'],\n",
       " ['Speaker, these are the opportunities we have \\nbefore us to be nimble, to be responsive, to really address the \\npriorities that people in this province have identified, the things that\\n they want all of us to be working together on, and to bring in \\nlegislation initiatives to deal with those things.'],\n",
       " ['I have not received a single email from somebody \\nwho wants to know, “When will Bill 171 go forward on the public agenda?”\\n “When will Bill 175”—Bill 175, again, is the home care act. If \\nanything, I have received emails from people who are very concerned \\nabout home care. They do not see Bill 175 as the solution.'],\n",
       " ['I heard from vulnerable people who were receiving \\nservices from a PSW. The private agency that the PSW worked for was not \\nrequiring that PSW to wear PPE when they went in to support that \\nconstituent. Meanwhile, that PSW may have been going into 20 different \\nhomes in a week and all the while not wearing masks, not wearing gloves \\nand exposing very, very vulnerable people to potential COVID-19 \\ninfection. I don’t fault the PSW. The PSW was absolutely working under \\nthe rules that the private sector agency had established, and that PSW \\nwas failed by those rules. Those vulnerable constituents were failed by \\nthe lack of protection for that worker and for themselves.'],\n",
       " ['Speaker, I would love to be looking at paid sick \\ndays. We saw the Premiers of BC, Manitoba and Yukon release a statement \\nabout how excited they were about working with the federal government to\\n implement those 10 paid sick days. We haven’t heard a thing from this \\ngovernment about when workers in this province are going to be protected\\n with paid sick days. In fact, they say that that’s politicizing, that \\nit’s being political, asking when Ontario workers can expect to see paid\\n sick days. That’s not political; that is good public policy. That is \\nwhat workers in this province need and expect from us.'],\n",
       " ['Speaker, I hope that people support my motion. I will conclude my remarks now.']]"
      ]
     },
     "execution_count": 153,
     "metadata": {},
     "output_type": "execute_result"
    }
   ],
   "source": [
    "texts['Ms. Peggy Sattler']"
   ]
  },
  {
   "cell_type": "code",
   "execution_count": null,
   "metadata": {},
   "outputs": [],
   "source": []
  }
 ],
 "metadata": {
  "kernelspec": {
   "display_name": "Python 3",
   "language": "python",
   "name": "python3"
  },
  "language_info": {
   "codemirror_mode": {
    "name": "ipython",
    "version": 3
   },
   "file_extension": ".py",
   "mimetype": "text/x-python",
   "name": "python",
   "nbconvert_exporter": "python",
   "pygments_lexer": "ipython3",
   "version": "3.8.5"
  }
 },
 "nbformat": 4,
 "nbformat_minor": 4
}
